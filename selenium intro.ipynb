{
 "cells": [
  {
   "cell_type": "code",
   "execution_count": 20,
   "metadata": {
    "scrolled": true
   },
   "outputs": [],
   "source": [
    "import pandas as pd\n",
    "import numpy as np\n",
    "import re\n",
    "\n",
    "from selenium.webdriver import Chrome\n",
    "from selenium.webdriver.chrome.options import Options\n",
    "\n",
    "class TwitchScrapping:\n",
    "    def __init__(self):\n",
    "        self.webdriver = \"/Users/mac/Downloads/chromedriver\"\n",
    "        self.opt = Options()\n",
    "        self.opt.add_argument('--headless')\n",
    "        self.opt.add_argument('--window-size=1920,1080');\n",
    "    \n",
    "    @staticmethod\n",
    "    def get_email(string_text):\n",
    "        match = re.search(r'[\\w\\.-]+@[\\w\\.-]+(\\.[\\w]+)+', string_text)\n",
    "        if match:\n",
    "            return match.group(0)\n",
    "        return ''\n",
    "\n",
    "    def get_twitch_videos(self, user_name):\n",
    "        driver = Chrome(self.webdriver, options=self.opt)\n",
    "        driver.implicitly_wait(5)\n",
    "        url = f'https://www.twitch.tv/{user_name}/videos'\n",
    "        driver.get(url)\n",
    "        tx = ''\n",
    "        tx = driver.find_elements_by_class_name(\"tw-pd-x-2\")[0].find_element_by_tag_name('h2').text\n",
    "        if not tx:\n",
    "            tx = 0\n",
    "        return tx\n",
    "    def get_twitter_email(self, url):\n",
    "        driver = Chrome(self.webdriver, options=self.opt)\n",
    "\n",
    "        driver.get(url)\n",
    "        email = ''\n",
    "        try:\n",
    "            el = driver.find_elements_by_class_name('ProfileHeaderCard-bio')\n",
    "            email = self.get_email(el[0].text)\n",
    "            driver.quit()\n",
    "        except:\n",
    "            driver.quit()\n",
    "            pass\n",
    "        return email\n",
    "\n",
    "    def get_facebook_email(self, url):\n",
    "        driver = Chrome(self.webdriver, options=self.opt)\n",
    "        driver.get(url)\n",
    "        email = ''\n",
    "        try:\n",
    "            el = driver.find_elements_by_id('content_container')\n",
    "            email = self.get_email(el[0].text)\n",
    "            driver.quit()\n",
    "        except:\n",
    "            pass\n",
    "        driver.quit()\n",
    "        return email\n",
    "    def get_links_from_twitch(self, username):\n",
    "        driver = Chrome(self.webdriver, options=self.opt)\n",
    "        driver.implicitly_wait(5)\n",
    "\n",
    "        url = f'https://www.twitch.tv/{username}'\n",
    "        driver.get(url)\n",
    "        links = []\n",
    "        email = ''\n",
    "        try:\n",
    "            elements = driver.find_elements_by_css_selector(\"div.default-panel a\")\n",
    "            try:\n",
    "                about = driver.find_elements_by_class_name(\"channel-panels\")[0].text\n",
    "                email = self.get_email(about)\n",
    "            except:\n",
    "                pass\n",
    "            for element in elements:\n",
    "                links.append(element.get_attribute(\"href\"))\n",
    "            try:\n",
    "                non_existing = driver.find_element_by_xpath(\"//*[contains(text(), 'The broadcaster has indicated')]\")            \n",
    "            except:\n",
    "                pass\n",
    "            driver.quit()\n",
    "        except:\n",
    "            pass\n",
    "        return links, email"
   ]
  },
  {
   "cell_type": "code",
   "execution_count": 21,
   "metadata": {},
   "outputs": [
    {
     "data": {
      "text/plain": [
       "(['https://steamcommunity.com/groups/megakitties',\n",
       "  'https://www.facebook.com/megakittytwitch/',\n",
       "  'https://discord.gg/mjhmBVm',\n",
       "  'https://streamlabs.com/megakitty/#/merch',\n",
       "  'https://www.instagram.com/megakittytwitch/'],\n",
       " '')"
      ]
     },
     "execution_count": 21,
     "metadata": {},
     "output_type": "execute_result"
    }
   ],
   "source": [
    "scrap = TwitchScrapping()\n",
    "scrap.get_links_from_twitch('MegaKitty')"
   ]
  },
  {
   "cell_type": "code",
   "execution_count": 43,
   "metadata": {},
   "outputs": [],
   "source": [
    "webdriver = \"/Users/mac/Downloads/chromedriver\"\n"
   ]
  },
  {
   "cell_type": "code",
   "execution_count": 724,
   "metadata": {},
   "outputs": [],
   "source": [
    "def get_twitch_videos(user_name):\n",
    "    driver = Chrome(webdriver)\n",
    "    driver.maximize_window()\n",
    "    driver.implicitly_wait(5)\n",
    "    url = f'https://www.twitch.tv/{user_name}/videos'\n",
    "    driver.get(url)\n",
    "    tx = ''\n",
    "\n",
    "    tx = driver.find_elements_by_class_name(\"tw-pd-x-2\")[0].find_element_by_tag_name('h2').text\n",
    "    print(\"\"\"tx\"\"\")\n",
    "    if not tx:\n",
    "        tx = 0\n",
    "        \n"
   ]
  },
  {
   "cell_type": "code",
   "execution_count": 1,
   "metadata": {
    "scrolled": true
   },
   "outputs": [],
   "source": [
    "# get_twitch_videos('PikePerch')"
   ]
  },
  {
   "cell_type": "code",
   "execution_count": 674,
   "metadata": {},
   "outputs": [],
   "source": [
    "def get_email(string_text):\n",
    "    match = re.search(r'[\\w\\.-]+@[\\w\\.-]+(\\.[\\w]+)+', string_text)\n",
    "    if match:\n",
    "        return match.group(0)\n",
    "    return ''"
   ]
  },
  {
   "cell_type": "code",
   "execution_count": 675,
   "metadata": {},
   "outputs": [],
   "source": [
    "def get_twitter_email(url):\n",
    "    opt = Options()\n",
    "    opt.add_argument('--headless')\n",
    "    opt.add_argument('--window-size=1920,1080');\n",
    "    driver = Chrome(webdriver, options=opt)\n",
    "    \n",
    "    driver.get(url)\n",
    "    email = ''\n",
    "    try:\n",
    "        el = driver.find_elements_by_class_name('ProfileHeaderCard-bio')\n",
    "        email = get_email(el[0].text)\n",
    "        driver.quit()\n",
    "    except:\n",
    "        driver.quit()\n",
    "        pass\n",
    "    return email"
   ]
  },
  {
   "cell_type": "code",
   "execution_count": 17,
   "metadata": {
    "scrolled": true
   },
   "outputs": [],
   "source": [
    "def get_facebook_email(url):\n",
    "#     opt = Options()\n",
    "#     opt.add_argument('--headless')\n",
    "#     opt.add_argument('--window-size=1920,1080');\n",
    "#     driver = Chrome(webdriver, options=opt)\n",
    "    \n",
    "    driver = Chrome(webdriver)\n",
    "    driver.maximize_window()\n",
    "\n",
    "    driver.get(url)\n",
    "    email = ''\n",
    "    try:\n",
    "        el = driver.find_elements_by_id('content_container')\n",
    "        email = get_email(el[0].text)\n",
    "        driver.quit()\n",
    "    except:\n",
    "        pass\n",
    "    driver.quit()\n",
    "    return email"
   ]
  },
  {
   "cell_type": "code",
   "execution_count": 136,
   "metadata": {},
   "outputs": [],
   "source": [
    "opt = Options()\n",
    "opt.add_argument('--headless')\n",
    "opt.add_argument('--window-size=1920,1080');\n",
    "driver = Chrome(webdriver, options=opt)\n",
    "\n",
    "#     driver = Chrome(webdriver)\n",
    "#     driver.maximize_window()\n",
    "\n",
    "url = 'https://www.facebook.com/pg/megakittytwitch/about/?ref=page_internal'\n",
    "driver.get(url)\n",
    "el = driver.find_elements_by_id('content_container')"
   ]
  },
  {
   "cell_type": "code",
   "execution_count": 139,
   "metadata": {},
   "outputs": [
    {
     "ename": "NameError",
     "evalue": "name 'get_email' is not defined",
     "output_type": "error",
     "traceback": [
      "\u001b[0;31m---------------------------------------------------------------------------\u001b[0m",
      "\u001b[0;31mNameError\u001b[0m                                 Traceback (most recent call last)",
      "\u001b[0;32m<ipython-input-139-367ce1ec96e8>\u001b[0m in \u001b[0;36m<module>\u001b[0;34m\u001b[0m\n\u001b[0;32m----> 1\u001b[0;31m \u001b[0mget_email\u001b[0m\u001b[0;34m(\u001b[0m\u001b[0mel\u001b[0m\u001b[0;34m[\u001b[0m\u001b[0;36m0\u001b[0m\u001b[0;34m]\u001b[0m\u001b[0;34m.\u001b[0m\u001b[0mtext\u001b[0m\u001b[0;34m)\u001b[0m\u001b[0;34m\u001b[0m\u001b[0;34m\u001b[0m\u001b[0m\n\u001b[0m",
      "\u001b[0;31mNameError\u001b[0m: name 'get_email' is not defined"
     ]
    }
   ],
   "source": [
    "get_email(el[0].text)"
   ]
  },
  {
   "cell_type": "code",
   "execution_count": 135,
   "metadata": {},
   "outputs": [
    {
     "data": {
      "text/plain": [
       "''"
      ]
     },
     "execution_count": 135,
     "metadata": {},
     "output_type": "execute_result"
    }
   ],
   "source": [
    "get_facebook_email('https://www.facebook.com/pg/megakittytwitch/about/?ref=page_internal')"
   ]
  },
  {
   "cell_type": "code",
   "execution_count": 30,
   "metadata": {},
   "outputs": [
    {
     "ename": "TypeError",
     "evalue": "'WebElement' object is not iterable",
     "output_type": "error",
     "traceback": [
      "\u001b[0;31m---------------------------------------------------------------------------\u001b[0m",
      "\u001b[0;31mTypeError\u001b[0m                                 Traceback (most recent call last)",
      "\u001b[0;32m<ipython-input-30-16270af6dff7>\u001b[0m in \u001b[0;36m<module>\u001b[0;34m\u001b[0m\n\u001b[1;32m     11\u001b[0m \u001b[0mdriver\u001b[0m\u001b[0;34m.\u001b[0m\u001b[0mget\u001b[0m\u001b[0;34m(\u001b[0m\u001b[0murl\u001b[0m\u001b[0;34m)\u001b[0m\u001b[0;34m\u001b[0m\u001b[0;34m\u001b[0m\u001b[0m\n\u001b[1;32m     12\u001b[0m \u001b[0melements\u001b[0m \u001b[0;34m=\u001b[0m \u001b[0mdriver\u001b[0m\u001b[0;34m.\u001b[0m\u001b[0mfind_elements_by_class_name\u001b[0m\u001b[0;34m(\u001b[0m\u001b[0;34m'tw-pd-x-2'\u001b[0m\u001b[0;34m)\u001b[0m\u001b[0;34m\u001b[0m\u001b[0;34m\u001b[0m\u001b[0m\n\u001b[0;32m---> 13\u001b[0;31m \u001b[0mprint\u001b[0m\u001b[0;34m(\u001b[0m\u001b[0mdict\u001b[0m\u001b[0;34m(\u001b[0m\u001b[0melements\u001b[0m\u001b[0;34m[\u001b[0m\u001b[0;36m0\u001b[0m\u001b[0;34m]\u001b[0m\u001b[0;34m)\u001b[0m\u001b[0;34m[\u001b[0m\u001b[0;34m'text'\u001b[0m\u001b[0;34m]\u001b[0m\u001b[0;34m,\u001b[0m \u001b[0;34m'dfghjkuytrfgthyjuk'\u001b[0m\u001b[0;34m)\u001b[0m\u001b[0;34m\u001b[0m\u001b[0;34m\u001b[0m\u001b[0m\n\u001b[0m\u001b[1;32m     14\u001b[0m \u001b[0mhii_takataka\u001b[0m \u001b[0;34m=\u001b[0m \u001b[0melements\u001b[0m\u001b[0;34m[\u001b[0m\u001b[0;36m0\u001b[0m\u001b[0;34m]\u001b[0m\u001b[0;34m.\u001b[0m\u001b[0mtext\u001b[0m\u001b[0;34m\u001b[0m\u001b[0;34m\u001b[0m\u001b[0m\n\u001b[1;32m     15\u001b[0m \u001b[0;31m#     driver.quit()\u001b[0m\u001b[0;34m\u001b[0m\u001b[0;34m\u001b[0m\u001b[0;34m\u001b[0m\u001b[0m\n",
      "\u001b[0;31mTypeError\u001b[0m: 'WebElement' object is not iterable"
     ]
    }
   ],
   "source": [
    "# def get_sport_team():\n",
    "opt = Options()\n",
    "opt.add_argument('--headless')\n",
    "opt.add_argument('--window-size=1920,1080');\n",
    "driver = Chrome(webdriver, options=opt)\n",
    "\n",
    "# driver.maximize_window()\n",
    "# driver.implicitly_wait(15)\n",
    "\n",
    "url = f'https://www.twitch.tv/lamaaatv'\n",
    "driver.get(url)\n",
    "elements = driver.find_elements_by_class_name('tw-pd-x-2')\n",
    "hii_takataka = elements[0].text\n",
    "#     driver.quit()\n",
    "#     return bio\n"
   ]
  },
  {
   "cell_type": "code",
   "execution_count": 24,
   "metadata": {},
   "outputs": [
    {
     "data": {
      "text/plain": [
       "'Ihr sucht Mitspieler für PUBG oder auch andere Games? Dann kommt auf unseren Teamspeak! -> ts.multigaming.world\\nQ: How old are you? A: I am 27.\\nQ: Where are you from? A: Germany\\nQ: What types of games do you play? A: Most the time i stream its gonna be PUBG, but playing everthing that makes fun aswell :D\\nQ: How often you are streaming? A: Most the time in afternoon or weekends.\\nQ: Other Question? A: Feel free to ask me in the chat!\\nJoin my discord to hang out or play together.\\nIf you followed, tell me your twitch name to get follower tag in discord.\\nCheck out my Twitter for News from the stream!\\nCheck out my Youtube channel for more Clips! :)\\nused to improve the Stream\\nTHANK YOU !!!'"
      ]
     },
     "execution_count": 24,
     "metadata": {},
     "output_type": "execute_result"
    }
   ],
   "source": [
    "elements"
   ]
  },
  {
   "cell_type": "code",
   "execution_count": 18,
   "metadata": {},
   "outputs": [
    {
     "ename": "AttributeError",
     "evalue": "'str' object has no attribute 'copy'",
     "output_type": "error",
     "traceback": [
      "\u001b[0;31m---------------------------------------------------------------------------\u001b[0m",
      "\u001b[0;31mAttributeError\u001b[0m                            Traceback (most recent call last)",
      "\u001b[0;32m<ipython-input-18-a1722071cbfe>\u001b[0m in \u001b[0;36m<module>\u001b[0;34m\u001b[0m\n\u001b[0;32m----> 1\u001b[0;31m \u001b[0mtry_\u001b[0m \u001b[0;34m=\u001b[0m \u001b[0mhii_takataka\u001b[0m\u001b[0;34m.\u001b[0m\u001b[0mcopy\u001b[0m\u001b[0;34m(\u001b[0m\u001b[0;34m)\u001b[0m\u001b[0;34m\u001b[0m\u001b[0;34m\u001b[0m\u001b[0m\n\u001b[0m",
      "\u001b[0;31mAttributeError\u001b[0m: 'str' object has no attribute 'copy'"
     ]
    }
   ],
   "source": [
    "try_ = hii_takataka.copy()"
   ]
  },
  {
   "cell_type": "code",
   "execution_count": 112,
   "metadata": {},
   "outputs": [
    {
     "data": {
      "text/plain": [
       "'Ihr sucht Mitspieler für PUBG oder auch andere Games? Dann kommt auf unseren Teamspeak! -> ts.multigaming.world\\nQ: How old are you? A: I am 27.\\nQ: Where are you from? A: Germany\\nQ: What types of games do you play? A: Most the time i stream its gonna be PUBG, but playing everthing that makes fun aswell :D\\nQ: How often you are streaming? A: Most the time in afternoon or weekends.\\nQ: Other Question? A: Feel free to ask me in the chat!\\nJoin my discord to hang out or play together.\\nIf you followed, tell me your twitch name to get follower tag in discord.\\nCheck out my Twitter for News from the stream!\\nCheck out my Youtube channel for more Clips! :)\\nused to improve the Stream\\nTHANK YOU !!!'"
      ]
     },
     "execution_count": 112,
     "metadata": {},
     "output_type": "execute_result"
    }
   ],
   "source": [
    "elements[0].text"
   ]
  },
  {
   "cell_type": "code",
   "execution_count": 93,
   "metadata": {},
   "outputs": [
    {
     "data": {
      "text/plain": [
       "'Ihr sucht Mitspieler für PUBG oder auch andere Games? Dann kommt auf unseren Teamspeak! -> ts.multigaming.world\\nQ: How old are you? A: I am 27.\\nQ: Where are you from? A: Germany\\nQ: What types of games do you play? A: Most the time i stream its gonna be PUBG, but playing everthing that makes fun aswell :D\\nQ: How often you are streaming? A: Most the time in afternoon or weekends.\\nQ: Other Question? A: Feel free to ask me in the chat!\\nJoin my discord to hang out or play together.\\nIf you followed, tell me your twitch name to get follower tag in discord.\\nCheck out my Twitter for News from the stream!\\nCheck out my Youtube channel for more Clips! :)\\nused to improve the Stream\\nTHANK YOU !!!'"
      ]
     },
     "execution_count": 93,
     "metadata": {},
     "output_type": "execute_result"
    }
   ],
   "source": [
    "bio"
   ]
  },
  {
   "cell_type": "code",
   "execution_count": 124,
   "metadata": {},
   "outputs": [],
   "source": [
    "def get_links_from_twitch(username):\n",
    "    opt = Options()\n",
    "    opt.add_argument('--headless')\n",
    "    opt.add_argument('--window-size=1920,1080');\n",
    "    driver = Chrome(webdriver, options=opt)\n",
    "#     driver = Chrome(webdriver)\n",
    "#     driver.maximize_window()\n",
    "    driver.implicitly_wait(5)\n",
    "    \n",
    "    url = f'https://www.twitch.tv/{username}'\n",
    "    driver.get(url)\n",
    "    links = []\n",
    "    email = ''\n",
    "    try:\n",
    "        elements = driver.find_elements_by_css_selector(\"div.default-panel a\")\n",
    "        try:\n",
    "            about = driver.find_elements_by_class_name(\"channel-panels\")[0].text\n",
    "            email = get_email(about)\n",
    "        except:\n",
    "            pass\n",
    "        for element in elements:\n",
    "            links.append(element.get_attribute(\"href\"))\n",
    "        try:\n",
    "            non_existing = driver.find_element_by_xpath(\"//*[contains(text(), 'The broadcaster has indicated')]\")            \n",
    "        except:\n",
    "            pass\n",
    "        driver.quit()\n",
    "    except:\n",
    "        pass\n",
    "    return links, email"
   ]
  },
  {
   "cell_type": "code",
   "execution_count": 131,
   "metadata": {},
   "outputs": [
    {
     "data": {
      "text/plain": [
       "(['https://steamcommunity.com/groups/megakitties',\n",
       "  'https://www.facebook.com/megakittytwitch/',\n",
       "  'https://discord.gg/mjhmBVm',\n",
       "  'https://streamlabs.com/megakitty/#/merch',\n",
       "  'https://www.instagram.com/megakittytwitch/'],\n",
       " '')"
      ]
     },
     "execution_count": 131,
     "metadata": {},
     "output_type": "execute_result"
    }
   ],
   "source": [
    "get_links_from_twitch('MegaKitty')"
   ]
  },
  {
   "cell_type": "code",
   "execution_count": 32,
   "metadata": {},
   "outputs": [],
   "source": [
    "import pandas as pd\n",
    "import numpy as np\n",
    "import re\n",
    "from progressbar import ProgressBar\n",
    "from selenium.webdriver import Chrome\n",
    "from selenium.webdriver.chrome.options import Options\n",
    "\n",
    "class TwitchScrapping:\n",
    "    def __init__(self):\n",
    "        self.webdriver = \"/Users/mac/Downloads/chromedriver\"\n",
    "        self.opt = Options()\n",
    "        self.opt.add_argument('--headless')\n",
    "        self.opt.add_argument('--window-size=1920,1080');\n",
    "    \n",
    "    @staticmethod\n",
    "    def get_email(string_text):\n",
    "        match = re.search(r'[\\w\\.-]+@[\\w\\.-]+(\\.[\\w]+)+', string_text)\n",
    "        if match:\n",
    "            return match.group(0)\n",
    "        return ''\n",
    "\n",
    "    def get_twitch_videos(self, user_name):\n",
    "        driver = Chrome(self.webdriver, options=self.opt)\n",
    "        driver.implicitly_wait(5)\n",
    "        url = f'https://www.twitch.tv/{user_name}/videos'\n",
    "        driver.get(url)\n",
    "        tx = ''\n",
    "        tx = driver.find_elements_by_class_name(\"tw-pd-x-2\")[0].find_element_by_tag_name('h2').text\n",
    "        if not tx:\n",
    "            tx = 0\n",
    "        return tx\n",
    "    def get_twitter_email(self, url):\n",
    "        driver = Chrome(self.webdriver, options=self.opt)\n",
    "\n",
    "        driver.get(url)\n",
    "        email = ''\n",
    "        try:\n",
    "            el = driver.find_elements_by_class_name('ProfileHeaderCard-bio')\n",
    "            email = self.get_email(el[0].text)\n",
    "            driver.quit()\n",
    "        except:\n",
    "            driver.quit()\n",
    "            pass\n",
    "        return email\n",
    "\n",
    "    def get_facebook_email(self, url):\n",
    "        driver = Chrome(self.webdriver, options=self.opt)\n",
    "        driver.get(url)\n",
    "        email = ''\n",
    "        try:\n",
    "            el = driver.find_elements_by_id('content_container')\n",
    "            email = self.get_email(el[0].text)\n",
    "            driver.quit()\n",
    "        except:\n",
    "            pass\n",
    "        driver.quit()\n",
    "        return email\n",
    "    def get_links_from_twitch(self, username):\n",
    "        driver = Chrome(self.webdriver, options=self.opt)\n",
    "        driver.implicitly_wait(5)\n",
    "\n",
    "        url = f'https://www.twitch.tv/{username}'\n",
    "        driver.get(url)\n",
    "        links = []\n",
    "        email = ''\n",
    "        try:\n",
    "            elements = driver.find_elements_by_css_selector(\"div.default-panel a\")\n",
    "            try:\n",
    "                about = driver.find_elements_by_class_name(\"channel-panels\")[0].text\n",
    "                email = self.get_email(about)\n",
    "            except:\n",
    "                pass\n",
    "            for element in elements:\n",
    "                links.append(element.get_attribute(\"href\"))\n",
    "            try:\n",
    "                driver.find_element_by_xpath(\"//*[contains(text(), 'The broadcaster has indicated')]\")            \n",
    "            except:\n",
    "                pass\n",
    "            driver.quit()\n",
    "        except:\n",
    "            pass\n",
    "        return links, email\n",
    "\n",
    "class DataExtraction(TwitchScrapping):\n",
    "    def __init__(self):\n",
    "        super(DataExtraction, self).__init__()\n",
    "        df = pd.read_excel('/Users/mac/Downloads/streamer_profiles_page_56.xlsx')\n",
    "        df = df.dropna(how='all')\n",
    "        df['fb_link'] = np.nan\n",
    "        df['youtube_link'] = np.nan\n",
    "        df['ig_link'] = np.nan\n",
    "        df['twitter_link'] = np.nan\n",
    "        self.df = df.fillna('')\n",
    "    \n",
    "    def remove_uneccessary_links(self, df):\n",
    "        df = self.df\n",
    "        for i in range (0, len(df)):\n",
    "            name = df.iloc[i:i+1,]['display_name'].item()\n",
    "\n",
    "            if df.loc[df['display_name'] == name, 'email'].item():\n",
    "                df.loc[df['display_name'] == name, 'fb_link'] = ''\n",
    "                df.loc[df['display_name'] == name, 'youtube_link'] = ''\n",
    "                df.loc[df['display_name'] == name, 'ig_link'] = ''\n",
    "        return df\n",
    "    def get_social_links(self):\n",
    "        df = self.df\n",
    "        pbar = ProgressBar().start()\n",
    "        for i in range(len(df)):\n",
    "            total = len(df)\n",
    "            total_steps = total\n",
    "            pbar.update((i/total)*100)  # current step/total steps * 100\n",
    "            pbar.finish()\n",
    "            name = df.iloc[i:i+1,]['display_name'].item()\n",
    "            if not df.loc[df['display_name'] == name, 'email'].item():\n",
    "                print(f\".........{i}.......Start Filling data for {name} ......................... \\n\\n\")\n",
    "                links, email = self.get_links_from_twitch(name)\n",
    "                source = df.loc[df['display_name'] == name, 'source_url'].item()\n",
    "                tw_source = ''\n",
    "                fb_source = ''\n",
    "                for link in links:\n",
    "                    if email:\n",
    "                        source = f'https://www.twitch.tv/{name}'\n",
    "                    if 'twitter.com' in link:\n",
    "                        df.loc[df['display_name'] == name, 'twitter_link'] = link\n",
    "                        tw_em = self.get_twitter_email(link)\n",
    "                        email = tw_em if tw_em else email\n",
    "                        tw_source = link if tw_em else source\n",
    "                    if 'instagram.com' in link:\n",
    "                        df.loc[df['display_name'] == name, 'ig_link'] = link\n",
    "                    if 'facebook.com' in link:\n",
    "                        username = link.split('/')[-2]\n",
    "                        link = f'https://www.facebook.com/pg/{username}/about/?ref=page_internal'\n",
    "                        df.loc[df['display_name'] == name, 'fb_link'] = link\n",
    "                        fb_em = self.get_facebook_email(link) if not email else email\n",
    "                        email = fb_em if fb_em else email\n",
    "                        fb_source = link if fb_em else ''\n",
    "                    if 'youtube.com' in link:\n",
    "                        df.loc[df['display_name'] == name, 'youtube_link'] = link + '/about'\n",
    "                    df.loc[df['display_name'] == name, 'email'] = email\n",
    "                    df.loc[df['display_name'] == name, 'source_url'] = tw_source or fb_source or source\n",
    "                if links:\n",
    "                    df.loc[df['display_name'] == name, 'number_of_videos'] = self.get_twitch_videos(name)\n",
    "                print(f\"................End Filling data for {name} ......................... \\n\\n\")\n",
    "        df = self.remove_uneccessary_links(df)\n",
    "        return df"
   ]
  },
  {
   "cell_type": "code",
   "execution_count": 33,
   "metadata": {
    "collapsed": true
   },
   "outputs": [
    {
     "name": "stderr",
     "output_type": "stream",
     "text": [
      "100% |########################################################################|\n",
      "/usr/local/anaconda3/lib/python3.7/site-packages/ipykernel_launcher.py:113: FutureWarning: `item` has been deprecated and will be removed in a future version\n",
      "/usr/local/anaconda3/lib/python3.7/site-packages/ipykernel_launcher.py:114: FutureWarning: `item` has been deprecated and will be removed in a future version\n"
     ]
    },
    {
     "name": "stdout",
     "output_type": "stream",
     "text": [
      ".........0.......Start Filling data for demonred123 ......................... \n",
      "\n",
      "\n"
     ]
    },
    {
     "name": "stderr",
     "output_type": "stream",
     "text": [
      "/usr/local/anaconda3/lib/python3.7/site-packages/ipykernel_launcher.py:117: FutureWarning: `item` has been deprecated and will be removed in a future version\n",
      "  0% |                                                                        |\r"
     ]
    },
    {
     "name": "stdout",
     "output_type": "stream",
     "text": [
      "................End Filling data for demonred123 ......................... \n",
      "\n",
      "\n",
      ".........4.......Start Filling data for Eiskeksmann ......................... \n",
      "\n",
      "\n"
     ]
    },
    {
     "name": "stderr",
     "output_type": "stream",
     "text": [
      "  0% |                                                                        |\r"
     ]
    },
    {
     "name": "stdout",
     "output_type": "stream",
     "text": [
      "................End Filling data for Eiskeksmann ......................... \n",
      "\n",
      "\n",
      ".........6.......Start Filling data for legendmatrixz ......................... \n",
      "\n",
      "\n"
     ]
    },
    {
     "name": "stderr",
     "output_type": "stream",
     "text": [
      "  0% |                                                                        |\r"
     ]
    },
    {
     "name": "stdout",
     "output_type": "stream",
     "text": [
      "................End Filling data for legendmatrixz ......................... \n",
      "\n",
      "\n",
      ".........7.......Start Filling data for sugarsh0t ......................... \n",
      "\n",
      "\n"
     ]
    },
    {
     "name": "stderr",
     "output_type": "stream",
     "text": [
      "  0% |                                                                        |\r"
     ]
    },
    {
     "name": "stdout",
     "output_type": "stream",
     "text": [
      "................End Filling data for sugarsh0t ......................... \n",
      "\n",
      "\n",
      ".........8.......Start Filling data for h0stmedicin ......................... \n",
      "\n",
      "\n"
     ]
    },
    {
     "name": "stderr",
     "output_type": "stream",
     "text": [
      "  0% |                                                                        |\r"
     ]
    },
    {
     "name": "stdout",
     "output_type": "stream",
     "text": [
      "................End Filling data for h0stmedicin ......................... \n",
      "\n",
      "\n",
      ".........9.......Start Filling data for lamaaatv ......................... \n",
      "\n",
      "\n"
     ]
    },
    {
     "ename": "WebDriverException",
     "evalue": "Message: disconnected: not connected to DevTools\n  (Session info: headless chrome=79.0.3945.117)\n",
     "output_type": "error",
     "traceback": [
      "\u001b[0;31m---------------------------\u001b[0m",
      "\u001b[0;31mWebDriverException\u001b[0mTraceback (most recent call last)",
      "\u001b[0;32m<ipython-input-33-5d820fc33b35>\u001b[0m in \u001b[0;36m<module>\u001b[0;34m\u001b[0m\n\u001b[1;32m      1\u001b[0m \u001b[0mextract\u001b[0m \u001b[0;34m=\u001b[0m \u001b[0mDataExtraction\u001b[0m\u001b[0;34m(\u001b[0m\u001b[0;34m)\u001b[0m\u001b[0;34m\u001b[0m\u001b[0;34m\u001b[0m\u001b[0m\n\u001b[0;32m----> 2\u001b[0;31m \u001b[0mextract\u001b[0m\u001b[0;34m.\u001b[0m\u001b[0mget_social_links\u001b[0m\u001b[0;34m(\u001b[0m\u001b[0;34m)\u001b[0m\u001b[0;34m\u001b[0m\u001b[0;34m\u001b[0m\u001b[0m\n\u001b[0m",
      "\u001b[0;32m<ipython-input-32-6161fa0cbe0d>\u001b[0m in \u001b[0;36mget_social_links\u001b[0;34m(self)\u001b[0m\n\u001b[1;32m    140\u001b[0m                     \u001b[0mdf\u001b[0m\u001b[0;34m.\u001b[0m\u001b[0mloc\u001b[0m\u001b[0;34m[\u001b[0m\u001b[0mdf\u001b[0m\u001b[0;34m[\u001b[0m\u001b[0;34m'display_name'\u001b[0m\u001b[0;34m]\u001b[0m \u001b[0;34m==\u001b[0m \u001b[0mname\u001b[0m\u001b[0;34m,\u001b[0m \u001b[0;34m'source_url'\u001b[0m\u001b[0;34m]\u001b[0m \u001b[0;34m=\u001b[0m \u001b[0mtw_source\u001b[0m \u001b[0;32mor\u001b[0m \u001b[0mfb_source\u001b[0m \u001b[0;32mor\u001b[0m \u001b[0msource\u001b[0m\u001b[0;34m\u001b[0m\u001b[0;34m\u001b[0m\u001b[0m\n\u001b[1;32m    141\u001b[0m                 \u001b[0;32mif\u001b[0m \u001b[0mlinks\u001b[0m\u001b[0;34m:\u001b[0m\u001b[0;34m\u001b[0m\u001b[0;34m\u001b[0m\u001b[0m\n\u001b[0;32m--> 142\u001b[0;31m                     \u001b[0mdf\u001b[0m\u001b[0;34m.\u001b[0m\u001b[0mloc\u001b[0m\u001b[0;34m[\u001b[0m\u001b[0mdf\u001b[0m\u001b[0;34m[\u001b[0m\u001b[0;34m'display_name'\u001b[0m\u001b[0;34m]\u001b[0m \u001b[0;34m==\u001b[0m \u001b[0mname\u001b[0m\u001b[0;34m,\u001b[0m \u001b[0;34m'number_of_videos'\u001b[0m\u001b[0;34m]\u001b[0m \u001b[0;34m=\u001b[0m \u001b[0mself\u001b[0m\u001b[0;34m.\u001b[0m\u001b[0mget_twitch_videos\u001b[0m\u001b[0;34m(\u001b[0m\u001b[0mname\u001b[0m\u001b[0;34m)\u001b[0m\u001b[0;34m\u001b[0m\u001b[0;34m\u001b[0m\u001b[0m\n\u001b[0m\u001b[1;32m    143\u001b[0m                 \u001b[0mprint\u001b[0m\u001b[0;34m(\u001b[0m\u001b[0;34mf\"................End Filling data for {name} ......................... \\n\\n\"\u001b[0m\u001b[0;34m)\u001b[0m\u001b[0;34m\u001b[0m\u001b[0;34m\u001b[0m\u001b[0m\n\u001b[1;32m    144\u001b[0m         \u001b[0mdf\u001b[0m \u001b[0;34m=\u001b[0m \u001b[0mself\u001b[0m\u001b[0;34m.\u001b[0m\u001b[0mremove_uneccessary_links\u001b[0m\u001b[0;34m(\u001b[0m\u001b[0mdf\u001b[0m\u001b[0;34m)\u001b[0m\u001b[0;34m\u001b[0m\u001b[0;34m\u001b[0m\u001b[0m\n",
      "\u001b[0;32m<ipython-input-32-6161fa0cbe0d>\u001b[0m in \u001b[0;36mget_twitch_videos\u001b[0;34m(self, user_name)\u001b[0m\n\u001b[1;32m     26\u001b[0m         \u001b[0mdriver\u001b[0m\u001b[0;34m.\u001b[0m\u001b[0mget\u001b[0m\u001b[0;34m(\u001b[0m\u001b[0murl\u001b[0m\u001b[0;34m)\u001b[0m\u001b[0;34m\u001b[0m\u001b[0;34m\u001b[0m\u001b[0m\n\u001b[1;32m     27\u001b[0m         \u001b[0mtx\u001b[0m \u001b[0;34m=\u001b[0m \u001b[0;34m''\u001b[0m\u001b[0;34m\u001b[0m\u001b[0;34m\u001b[0m\u001b[0m\n\u001b[0;32m---> 28\u001b[0;31m         \u001b[0mtx\u001b[0m \u001b[0;34m=\u001b[0m \u001b[0mdriver\u001b[0m\u001b[0;34m.\u001b[0m\u001b[0mfind_elements_by_class_name\u001b[0m\u001b[0;34m(\u001b[0m\u001b[0;34m\"tw-pd-x-2\"\u001b[0m\u001b[0;34m)\u001b[0m\u001b[0;34m[\u001b[0m\u001b[0;36m0\u001b[0m\u001b[0;34m]\u001b[0m\u001b[0;34m.\u001b[0m\u001b[0mfind_element_by_tag_name\u001b[0m\u001b[0;34m(\u001b[0m\u001b[0;34m'h2'\u001b[0m\u001b[0;34m)\u001b[0m\u001b[0;34m.\u001b[0m\u001b[0mtext\u001b[0m\u001b[0;34m\u001b[0m\u001b[0;34m\u001b[0m\u001b[0m\n\u001b[0m\u001b[1;32m     29\u001b[0m         \u001b[0;32mif\u001b[0m \u001b[0;32mnot\u001b[0m \u001b[0mtx\u001b[0m\u001b[0;34m:\u001b[0m\u001b[0;34m\u001b[0m\u001b[0;34m\u001b[0m\u001b[0m\n\u001b[1;32m     30\u001b[0m             \u001b[0mtx\u001b[0m \u001b[0;34m=\u001b[0m \u001b[0;36m0\u001b[0m\u001b[0;34m\u001b[0m\u001b[0;34m\u001b[0m\u001b[0m\n",
      "\u001b[0;32m/usr/local/anaconda3/lib/python3.7/site-packages/selenium/webdriver/remote/webelement.py\u001b[0m in \u001b[0;36mfind_element_by_tag_name\u001b[0;34m(self, name)\u001b[0m\n\u001b[1;32m    303\u001b[0m             \u001b[0melement\u001b[0m \u001b[0;34m=\u001b[0m \u001b[0melement\u001b[0m\u001b[0;34m.\u001b[0m\u001b[0mfind_element_by_tag_name\u001b[0m\u001b[0;34m(\u001b[0m\u001b[0;34m'h1'\u001b[0m\u001b[0;34m)\u001b[0m\u001b[0;34m\u001b[0m\u001b[0;34m\u001b[0m\u001b[0m\n\u001b[1;32m    304\u001b[0m         \"\"\"\n\u001b[0;32m--> 305\u001b[0;31m         \u001b[0;32mreturn\u001b[0m \u001b[0mself\u001b[0m\u001b[0;34m.\u001b[0m\u001b[0mfind_element\u001b[0m\u001b[0;34m(\u001b[0m\u001b[0mby\u001b[0m\u001b[0;34m=\u001b[0m\u001b[0mBy\u001b[0m\u001b[0;34m.\u001b[0m\u001b[0mTAG_NAME\u001b[0m\u001b[0;34m,\u001b[0m \u001b[0mvalue\u001b[0m\u001b[0;34m=\u001b[0m\u001b[0mname\u001b[0m\u001b[0;34m)\u001b[0m\u001b[0;34m\u001b[0m\u001b[0;34m\u001b[0m\u001b[0m\n\u001b[0m\u001b[1;32m    306\u001b[0m \u001b[0;34m\u001b[0m\u001b[0m\n\u001b[1;32m    307\u001b[0m     \u001b[0;32mdef\u001b[0m \u001b[0mfind_elements_by_tag_name\u001b[0m\u001b[0;34m(\u001b[0m\u001b[0mself\u001b[0m\u001b[0;34m,\u001b[0m \u001b[0mname\u001b[0m\u001b[0;34m)\u001b[0m\u001b[0;34m:\u001b[0m\u001b[0;34m\u001b[0m\u001b[0;34m\u001b[0m\u001b[0m\n",
      "\u001b[0;32m/usr/local/anaconda3/lib/python3.7/site-packages/selenium/webdriver/remote/webelement.py\u001b[0m in \u001b[0;36mfind_element\u001b[0;34m(self, by, value)\u001b[0m\n\u001b[1;32m    657\u001b[0m \u001b[0;34m\u001b[0m\u001b[0m\n\u001b[1;32m    658\u001b[0m         return self._execute(Command.FIND_CHILD_ELEMENT,\n\u001b[0;32m--> 659\u001b[0;31m                              {\"using\": by, \"value\": value})['value']\n\u001b[0m\u001b[1;32m    660\u001b[0m \u001b[0;34m\u001b[0m\u001b[0m\n\u001b[1;32m    661\u001b[0m     \u001b[0;32mdef\u001b[0m \u001b[0mfind_elements\u001b[0m\u001b[0;34m(\u001b[0m\u001b[0mself\u001b[0m\u001b[0;34m,\u001b[0m \u001b[0mby\u001b[0m\u001b[0;34m=\u001b[0m\u001b[0mBy\u001b[0m\u001b[0;34m.\u001b[0m\u001b[0mID\u001b[0m\u001b[0;34m,\u001b[0m \u001b[0mvalue\u001b[0m\u001b[0;34m=\u001b[0m\u001b[0;32mNone\u001b[0m\u001b[0;34m)\u001b[0m\u001b[0;34m:\u001b[0m\u001b[0;34m\u001b[0m\u001b[0;34m\u001b[0m\u001b[0m\n",
      "\u001b[0;32m/usr/local/anaconda3/lib/python3.7/site-packages/selenium/webdriver/remote/webelement.py\u001b[0m in \u001b[0;36m_execute\u001b[0;34m(self, command, params)\u001b[0m\n\u001b[1;32m    631\u001b[0m             \u001b[0mparams\u001b[0m \u001b[0;34m=\u001b[0m \u001b[0;34m{\u001b[0m\u001b[0;34m}\u001b[0m\u001b[0;34m\u001b[0m\u001b[0;34m\u001b[0m\u001b[0m\n\u001b[1;32m    632\u001b[0m         \u001b[0mparams\u001b[0m\u001b[0;34m[\u001b[0m\u001b[0;34m'id'\u001b[0m\u001b[0;34m]\u001b[0m \u001b[0;34m=\u001b[0m \u001b[0mself\u001b[0m\u001b[0;34m.\u001b[0m\u001b[0m_id\u001b[0m\u001b[0;34m\u001b[0m\u001b[0;34m\u001b[0m\u001b[0m\n\u001b[0;32m--> 633\u001b[0;31m         \u001b[0;32mreturn\u001b[0m \u001b[0mself\u001b[0m\u001b[0;34m.\u001b[0m\u001b[0m_parent\u001b[0m\u001b[0;34m.\u001b[0m\u001b[0mexecute\u001b[0m\u001b[0;34m(\u001b[0m\u001b[0mcommand\u001b[0m\u001b[0;34m,\u001b[0m \u001b[0mparams\u001b[0m\u001b[0;34m)\u001b[0m\u001b[0;34m\u001b[0m\u001b[0;34m\u001b[0m\u001b[0m\n\u001b[0m\u001b[1;32m    634\u001b[0m \u001b[0;34m\u001b[0m\u001b[0m\n\u001b[1;32m    635\u001b[0m     \u001b[0;32mdef\u001b[0m \u001b[0mfind_element\u001b[0m\u001b[0;34m(\u001b[0m\u001b[0mself\u001b[0m\u001b[0;34m,\u001b[0m \u001b[0mby\u001b[0m\u001b[0;34m=\u001b[0m\u001b[0mBy\u001b[0m\u001b[0;34m.\u001b[0m\u001b[0mID\u001b[0m\u001b[0;34m,\u001b[0m \u001b[0mvalue\u001b[0m\u001b[0;34m=\u001b[0m\u001b[0;32mNone\u001b[0m\u001b[0;34m)\u001b[0m\u001b[0;34m:\u001b[0m\u001b[0;34m\u001b[0m\u001b[0;34m\u001b[0m\u001b[0m\n",
      "\u001b[0;32m/usr/local/anaconda3/lib/python3.7/site-packages/selenium/webdriver/remote/webdriver.py\u001b[0m in \u001b[0;36mexecute\u001b[0;34m(self, driver_command, params)\u001b[0m\n\u001b[1;32m    319\u001b[0m         \u001b[0mresponse\u001b[0m \u001b[0;34m=\u001b[0m \u001b[0mself\u001b[0m\u001b[0;34m.\u001b[0m\u001b[0mcommand_executor\u001b[0m\u001b[0;34m.\u001b[0m\u001b[0mexecute\u001b[0m\u001b[0;34m(\u001b[0m\u001b[0mdriver_command\u001b[0m\u001b[0;34m,\u001b[0m \u001b[0mparams\u001b[0m\u001b[0;34m)\u001b[0m\u001b[0;34m\u001b[0m\u001b[0;34m\u001b[0m\u001b[0m\n\u001b[1;32m    320\u001b[0m         \u001b[0;32mif\u001b[0m \u001b[0mresponse\u001b[0m\u001b[0;34m:\u001b[0m\u001b[0;34m\u001b[0m\u001b[0;34m\u001b[0m\u001b[0m\n\u001b[0;32m--> 321\u001b[0;31m             \u001b[0mself\u001b[0m\u001b[0;34m.\u001b[0m\u001b[0merror_handler\u001b[0m\u001b[0;34m.\u001b[0m\u001b[0mcheck_response\u001b[0m\u001b[0;34m(\u001b[0m\u001b[0mresponse\u001b[0m\u001b[0;34m)\u001b[0m\u001b[0;34m\u001b[0m\u001b[0;34m\u001b[0m\u001b[0m\n\u001b[0m\u001b[1;32m    322\u001b[0m             response['value'] = self._unwrap_value(\n\u001b[1;32m    323\u001b[0m                 response.get('value', None))\n",
      "\u001b[0;32m/usr/local/anaconda3/lib/python3.7/site-packages/selenium/webdriver/remote/errorhandler.py\u001b[0m in \u001b[0;36mcheck_response\u001b[0;34m(self, response)\u001b[0m\n\u001b[1;32m    240\u001b[0m                 \u001b[0malert_text\u001b[0m \u001b[0;34m=\u001b[0m \u001b[0mvalue\u001b[0m\u001b[0;34m[\u001b[0m\u001b[0;34m'alert'\u001b[0m\u001b[0;34m]\u001b[0m\u001b[0;34m.\u001b[0m\u001b[0mget\u001b[0m\u001b[0;34m(\u001b[0m\u001b[0;34m'text'\u001b[0m\u001b[0;34m)\u001b[0m\u001b[0;34m\u001b[0m\u001b[0;34m\u001b[0m\u001b[0m\n\u001b[1;32m    241\u001b[0m             \u001b[0;32mraise\u001b[0m \u001b[0mexception_class\u001b[0m\u001b[0;34m(\u001b[0m\u001b[0mmessage\u001b[0m\u001b[0;34m,\u001b[0m \u001b[0mscreen\u001b[0m\u001b[0;34m,\u001b[0m \u001b[0mstacktrace\u001b[0m\u001b[0;34m,\u001b[0m \u001b[0malert_text\u001b[0m\u001b[0;34m)\u001b[0m\u001b[0;34m\u001b[0m\u001b[0;34m\u001b[0m\u001b[0m\n\u001b[0;32m--> 242\u001b[0;31m         \u001b[0;32mraise\u001b[0m \u001b[0mexception_class\u001b[0m\u001b[0;34m(\u001b[0m\u001b[0mmessage\u001b[0m\u001b[0;34m,\u001b[0m \u001b[0mscreen\u001b[0m\u001b[0;34m,\u001b[0m \u001b[0mstacktrace\u001b[0m\u001b[0;34m)\u001b[0m\u001b[0;34m\u001b[0m\u001b[0;34m\u001b[0m\u001b[0m\n\u001b[0m\u001b[1;32m    243\u001b[0m \u001b[0;34m\u001b[0m\u001b[0m\n\u001b[1;32m    244\u001b[0m     \u001b[0;32mdef\u001b[0m \u001b[0m_value_or_default\u001b[0m\u001b[0;34m(\u001b[0m\u001b[0mself\u001b[0m\u001b[0;34m,\u001b[0m \u001b[0mobj\u001b[0m\u001b[0;34m,\u001b[0m \u001b[0mkey\u001b[0m\u001b[0;34m,\u001b[0m \u001b[0mdefault\u001b[0m\u001b[0;34m)\u001b[0m\u001b[0;34m:\u001b[0m\u001b[0;34m\u001b[0m\u001b[0;34m\u001b[0m\u001b[0m\n",
      "\u001b[0;31mWebDriverException\u001b[0m: Message: disconnected: not connected to DevTools\n  (Session info: headless chrome=79.0.3945.117)\n"
     ]
    }
   ],
   "source": [
    "extract = DataExtraction()\n",
    "extract.get_social_links()"
   ]
  },
  {
   "cell_type": "code",
   "execution_count": 689,
   "metadata": {},
   "outputs": [],
   "source": [
    "def remove_uneccessary_links(df):\n",
    "    for i in range (0, len(df)):\n",
    "        name = df.iloc[i:i+1,]['display_name'].item()\n",
    "\n",
    "        if df.loc[df['display_name'] == name, 'email'].item():\n",
    "            df.loc[df['display_name'] == name, 'fb_link'] = ''\n",
    "            df.loc[df['display_name'] == name, 'youtube_link'] = ''\n",
    "            df.loc[df['display_name'] == name, 'ig_link'] = ''\n",
    "    return df"
   ]
  },
  {
   "cell_type": "code",
   "execution_count": 598,
   "metadata": {},
   "outputs": [],
   "source": [
    "df = pd.read_excel('/Users/mac/Downloads/streamer_profiles_page_56.xlsx')\n",
    "df = df.dropna(how='all')\n",
    "df['fb_link'] = np.nan\n",
    "df['youtube_link'] = np.nan\n",
    "df['ig_link'] = np.nan\n",
    "df['twitter_link'] = np.nan\n",
    "df = df.fillna('')"
   ]
  },
  {
   "cell_type": "code",
   "execution_count": 692,
   "metadata": {},
   "outputs": [
    {
     "name": "stderr",
     "output_type": "stream",
     "text": [
      "/usr/local/anaconda3/lib/python3.7/site-packages/ipykernel_launcher.py:1: FutureWarning: `item` has been deprecated and will be removed in a future version\n",
      "  \"\"\"Entry point for launching an IPython kernel.\n"
     ]
    },
    {
     "data": {
      "text/plain": [
       "'demonred123'"
      ]
     },
     "execution_count": 692,
     "metadata": {},
     "output_type": "execute_result"
    }
   ],
   "source": [
    "df.iloc[0:1,]['display_name'].item()"
   ]
  },
  {
   "cell_type": "code",
   "execution_count": 706,
   "metadata": {
    "collapsed": true
   },
   "outputs": [
    {
     "name": "stderr",
     "output_type": "stream",
     "text": [
      "100% |########################################################################|\n",
      "/usr/local/anaconda3/lib/python3.7/site-packages/ipykernel_launcher.py:8: FutureWarning: `item` has been deprecated and will be removed in a future version\n",
      "  \n",
      "/usr/local/anaconda3/lib/python3.7/site-packages/ipykernel_launcher.py:9: FutureWarning: `item` has been deprecated and will be removed in a future version\n",
      "  if __name__ == '__main__':\n"
     ]
    },
    {
     "name": "stdout",
     "output_type": "stream",
     "text": [
      ".........770.......Start Filling data for singleservingfriend ......................... \n",
      "\n",
      "\n"
     ]
    },
    {
     "name": "stderr",
     "output_type": "stream",
     "text": [
      "/usr/local/anaconda3/lib/python3.7/site-packages/ipykernel_launcher.py:12: FutureWarning: `item` has been deprecated and will be removed in a future version\n",
      "  if sys.path[0] == '':\n",
      " 77% |#######################################################                 |\r"
     ]
    },
    {
     "name": "stdout",
     "output_type": "stream",
     "text": [
      "................End Filling data for singleservingfriend ......................... \n",
      "\n",
      "\n",
      ".........771.......Start Filling data for ToledoStream ......................... \n",
      "\n",
      "\n"
     ]
    },
    {
     "name": "stderr",
     "output_type": "stream",
     "text": [
      " 77% |#######################################################                 |\r"
     ]
    },
    {
     "name": "stdout",
     "output_type": "stream",
     "text": [
      "................End Filling data for ToledoStream ......................... \n",
      "\n",
      "\n",
      ".........772.......Start Filling data for Coolsystem ......................... \n",
      "\n",
      "\n"
     ]
    },
    {
     "name": "stderr",
     "output_type": "stream",
     "text": [
      " 77% |#######################################################                 |\r"
     ]
    },
    {
     "name": "stdout",
     "output_type": "stream",
     "text": [
      "................End Filling data for Coolsystem ......................... \n",
      "\n",
      "\n",
      ".........773.......Start Filling data for Elsellice ......................... \n",
      "\n",
      "\n"
     ]
    },
    {
     "name": "stderr",
     "output_type": "stream",
     "text": [
      " 77% |#######################################################                 |\r"
     ]
    },
    {
     "name": "stdout",
     "output_type": "stream",
     "text": [
      "................End Filling data for Elsellice ......................... \n",
      "\n",
      "\n",
      ".........774.......Start Filling data for xyunusuzn ......................... \n",
      "\n",
      "\n"
     ]
    },
    {
     "name": "stderr",
     "output_type": "stream",
     "text": [
      " 77% |#######################################################                 |\r"
     ]
    },
    {
     "name": "stdout",
     "output_type": "stream",
     "text": [
      "................End Filling data for xyunusuzn ......................... \n",
      "\n",
      "\n",
      ".........775.......Start Filling data for ZZERONERZZ ......................... \n",
      "\n",
      "\n"
     ]
    },
    {
     "name": "stderr",
     "output_type": "stream",
     "text": [
      " 77% |#######################################################                 |\r"
     ]
    },
    {
     "name": "stdout",
     "output_type": "stream",
     "text": [
      "................End Filling data for ZZERONERZZ ......................... \n",
      "\n",
      "\n",
      ".........776.......Start Filling data for ShadowCPlays ......................... \n",
      "\n",
      "\n"
     ]
    },
    {
     "name": "stderr",
     "output_type": "stream",
     "text": [
      " 77% |#######################################################                 |\r"
     ]
    },
    {
     "name": "stdout",
     "output_type": "stream",
     "text": [
      "................End Filling data for ShadowCPlays ......................... \n",
      "\n",
      "\n",
      ".........777.......Start Filling data for Schrankcamper ......................... \n",
      "\n",
      "\n"
     ]
    },
    {
     "name": "stderr",
     "output_type": "stream",
     "text": [
      " 77% |########################################################                |\r"
     ]
    },
    {
     "name": "stdout",
     "output_type": "stream",
     "text": [
      "................End Filling data for Schrankcamper ......................... \n",
      "\n",
      "\n",
      ".........778.......Start Filling data for PoochieDumpling ......................... \n",
      "\n",
      "\n"
     ]
    },
    {
     "name": "stderr",
     "output_type": "stream",
     "text": [
      " 77% |########################################################                |\r"
     ]
    },
    {
     "name": "stdout",
     "output_type": "stream",
     "text": [
      "................End Filling data for PoochieDumpling ......................... \n",
      "\n",
      "\n",
      ".........779.......Start Filling data for IsMythical ......................... \n",
      "\n",
      "\n"
     ]
    },
    {
     "name": "stderr",
     "output_type": "stream",
     "text": [
      " 78% |########################################################                |\r"
     ]
    },
    {
     "name": "stdout",
     "output_type": "stream",
     "text": [
      "................End Filling data for IsMythical ......................... \n",
      "\n",
      "\n",
      ".........780.......Start Filling data for JenRoyKins ......................... \n",
      "\n",
      "\n"
     ]
    },
    {
     "name": "stderr",
     "output_type": "stream",
     "text": [
      " 78% |########################################################                |\r"
     ]
    },
    {
     "name": "stdout",
     "output_type": "stream",
     "text": [
      "................End Filling data for JenRoyKins ......................... \n",
      "\n",
      "\n",
      ".........781.......Start Filling data for emile003 ......................... \n",
      "\n",
      "\n"
     ]
    },
    {
     "name": "stderr",
     "output_type": "stream",
     "text": [
      " 78% |########################################################                |\r"
     ]
    },
    {
     "name": "stdout",
     "output_type": "stream",
     "text": [
      "................End Filling data for emile003 ......................... \n",
      "\n",
      "\n",
      ".........782.......Start Filling data for GG_Olympios ......................... \n",
      "\n",
      "\n"
     ]
    },
    {
     "name": "stderr",
     "output_type": "stream",
     "text": [
      " 78% |########################################################                |\r"
     ]
    },
    {
     "name": "stdout",
     "output_type": "stream",
     "text": [
      "................End Filling data for GG_Olympios ......................... \n",
      "\n",
      "\n",
      ".........783.......Start Filling data for jaheira3 ......................... \n",
      "\n",
      "\n"
     ]
    },
    {
     "name": "stderr",
     "output_type": "stream",
     "text": [
      " 78% |########################################################                |\r"
     ]
    },
    {
     "name": "stdout",
     "output_type": "stream",
     "text": [
      "................End Filling data for jaheira3 ......................... \n",
      "\n",
      "\n",
      ".........784.......Start Filling data for KirkandKory ......................... \n",
      "\n",
      "\n"
     ]
    },
    {
     "name": "stderr",
     "output_type": "stream",
     "text": [
      " 78% |########################################################                |\r"
     ]
    },
    {
     "name": "stdout",
     "output_type": "stream",
     "text": [
      "................End Filling data for KirkandKory ......................... \n",
      "\n",
      "\n",
      ".........785.......Start Filling data for GENNastar ......................... \n",
      "\n",
      "\n"
     ]
    },
    {
     "name": "stderr",
     "output_type": "stream",
     "text": [
      " 78% |########################################################                |\r"
     ]
    },
    {
     "name": "stdout",
     "output_type": "stream",
     "text": [
      "................End Filling data for GENNastar ......................... \n",
      "\n",
      "\n",
      ".........786.......Start Filling data for Marcandftw ......................... \n",
      "\n",
      "\n"
     ]
    },
    {
     "name": "stderr",
     "output_type": "stream",
     "text": [
      " 78% |########################################################                |\r"
     ]
    },
    {
     "name": "stdout",
     "output_type": "stream",
     "text": [
      "................End Filling data for Marcandftw ......................... \n",
      "\n",
      "\n",
      ".........787.......Start Filling data for GioPlaays ......................... \n",
      "\n",
      "\n"
     ]
    },
    {
     "name": "stderr",
     "output_type": "stream",
     "text": [
      " 78% |########################################################                |\r"
     ]
    },
    {
     "name": "stdout",
     "output_type": "stream",
     "text": [
      "................End Filling data for GioPlaays ......................... \n",
      "\n",
      "\n",
      ".........788.......Start Filling data for Shpego ......................... \n",
      "\n",
      "\n"
     ]
    },
    {
     "name": "stderr",
     "output_type": "stream",
     "text": [
      " 78% |########################################################                |\r"
     ]
    },
    {
     "name": "stdout",
     "output_type": "stream",
     "text": [
      "................End Filling data for Shpego ......................... \n",
      "\n",
      "\n",
      ".........789.......Start Filling data for Occuts ......................... \n",
      "\n",
      "\n"
     ]
    },
    {
     "name": "stderr",
     "output_type": "stream",
     "text": [
      " 79% |########################################################                |\r"
     ]
    },
    {
     "name": "stdout",
     "output_type": "stream",
     "text": [
      "................End Filling data for Occuts ......................... \n",
      "\n",
      "\n",
      ".........790.......Start Filling data for 撲克夫妻 ......................... \n",
      "\n",
      "\n"
     ]
    },
    {
     "name": "stderr",
     "output_type": "stream",
     "text": [
      " 79% |########################################################                |\r"
     ]
    },
    {
     "name": "stdout",
     "output_type": "stream",
     "text": [
      "................End Filling data for 撲克夫妻 ......................... \n",
      "\n",
      "\n",
      ".........791.......Start Filling data for koopp ......................... \n",
      "\n",
      "\n"
     ]
    },
    {
     "name": "stderr",
     "output_type": "stream",
     "text": [
      " 79% |#########################################################               |\r"
     ]
    },
    {
     "name": "stdout",
     "output_type": "stream",
     "text": [
      "................End Filling data for koopp ......................... \n",
      "\n",
      "\n",
      ".........792.......Start Filling data for focusonn ......................... \n",
      "\n",
      "\n"
     ]
    },
    {
     "name": "stderr",
     "output_type": "stream",
     "text": [
      " 79% |#########################################################               |\r"
     ]
    },
    {
     "name": "stdout",
     "output_type": "stream",
     "text": [
      "................End Filling data for focusonn ......................... \n",
      "\n",
      "\n",
      ".........793.......Start Filling data for Morray_Ed ......................... \n",
      "\n",
      "\n"
     ]
    },
    {
     "name": "stderr",
     "output_type": "stream",
     "text": [
      " 79% |#########################################################               |\r"
     ]
    },
    {
     "name": "stdout",
     "output_type": "stream",
     "text": [
      "................End Filling data for Morray_Ed ......................... \n",
      "\n",
      "\n",
      ".........794.......Start Filling data for rabtus ......................... \n",
      "\n",
      "\n"
     ]
    },
    {
     "name": "stderr",
     "output_type": "stream",
     "text": [
      " 79% |#########################################################               |\r"
     ]
    },
    {
     "name": "stdout",
     "output_type": "stream",
     "text": [
      "................End Filling data for rabtus ......................... \n",
      "\n",
      "\n",
      ".........795.......Start Filling data for nahloo ......................... \n",
      "\n",
      "\n"
     ]
    },
    {
     "name": "stderr",
     "output_type": "stream",
     "text": [
      " 79% |#########################################################               |\r"
     ]
    },
    {
     "name": "stdout",
     "output_type": "stream",
     "text": [
      "................End Filling data for nahloo ......................... \n",
      "\n",
      "\n",
      ".........796.......Start Filling data for TheAtomCatz ......................... \n",
      "\n",
      "\n"
     ]
    },
    {
     "name": "stderr",
     "output_type": "stream",
     "text": [
      " 79% |#########################################################               |\r"
     ]
    },
    {
     "name": "stdout",
     "output_type": "stream",
     "text": [
      "................End Filling data for TheAtomCatz ......................... \n",
      "\n",
      "\n",
      ".........797.......Start Filling data for RealStaticVoID ......................... \n",
      "\n",
      "\n"
     ]
    },
    {
     "name": "stderr",
     "output_type": "stream",
     "text": [
      " 79% |#########################################################               |\r"
     ]
    },
    {
     "name": "stdout",
     "output_type": "stream",
     "text": [
      "................End Filling data for RealStaticVoID ......................... \n",
      "\n",
      "\n",
      ".........798.......Start Filling data for PsyKoTik62 ......................... \n",
      "\n",
      "\n"
     ]
    },
    {
     "name": "stderr",
     "output_type": "stream",
     "text": [
      " 79% |#########################################################               |\r"
     ]
    },
    {
     "name": "stdout",
     "output_type": "stream",
     "text": [
      "................End Filling data for PsyKoTik62 ......................... \n",
      "\n",
      "\n",
      ".........799.......Start Filling data for Judge_4L ......................... \n",
      "\n",
      "\n"
     ]
    },
    {
     "name": "stderr",
     "output_type": "stream",
     "text": [
      " 80% |#########################################################               |\r"
     ]
    },
    {
     "name": "stdout",
     "output_type": "stream",
     "text": [
      "................End Filling data for Judge_4L ......................... \n",
      "\n",
      "\n",
      ".........800.......Start Filling data for JinsCS ......................... \n",
      "\n",
      "\n"
     ]
    },
    {
     "name": "stderr",
     "output_type": "stream",
     "text": [
      " 80% |#########################################################               |\r"
     ]
    },
    {
     "name": "stdout",
     "output_type": "stream",
     "text": [
      "................End Filling data for JinsCS ......................... \n",
      "\n",
      "\n",
      ".........801.......Start Filling data for GeekyLK ......................... \n",
      "\n",
      "\n"
     ]
    },
    {
     "name": "stderr",
     "output_type": "stream",
     "text": [
      " 80% |#########################################################               |\r"
     ]
    },
    {
     "name": "stdout",
     "output_type": "stream",
     "text": [
      "................End Filling data for GeekyLK ......................... \n",
      "\n",
      "\n",
      ".........802.......Start Filling data for SteelMagyar ......................... \n",
      "\n",
      "\n"
     ]
    },
    {
     "name": "stderr",
     "output_type": "stream",
     "text": [
      " 80% |#########################################################               |\r"
     ]
    },
    {
     "name": "stdout",
     "output_type": "stream",
     "text": [
      "................End Filling data for SteelMagyar ......................... \n",
      "\n",
      "\n",
      ".........803.......Start Filling data for lolreaper9 ......................... \n",
      "\n",
      "\n"
     ]
    },
    {
     "name": "stderr",
     "output_type": "stream",
     "text": [
      " 80% |#########################################################               |\r"
     ]
    },
    {
     "name": "stdout",
     "output_type": "stream",
     "text": [
      "................End Filling data for lolreaper9 ......................... \n",
      "\n",
      "\n",
      ".........804.......Start Filling data for ShadowChaosz ......................... \n",
      "\n",
      "\n"
     ]
    },
    {
     "name": "stderr",
     "output_type": "stream",
     "text": [
      " 80% |#########################################################               |\r"
     ]
    },
    {
     "name": "stdout",
     "output_type": "stream",
     "text": [
      "................End Filling data for ShadowChaosz ......................... \n",
      "\n",
      "\n",
      ".........805.......Start Filling data for S13RRAF0X ......................... \n",
      "\n",
      "\n"
     ]
    },
    {
     "name": "stderr",
     "output_type": "stream",
     "text": [
      " 80% |##########################################################              |\r"
     ]
    },
    {
     "name": "stdout",
     "output_type": "stream",
     "text": [
      "................End Filling data for S13RRAF0X ......................... \n",
      "\n",
      "\n",
      ".........806.......Start Filling data for sleepwalkerhere ......................... \n",
      "\n",
      "\n"
     ]
    },
    {
     "name": "stderr",
     "output_type": "stream",
     "text": [
      " 80% |##########################################################              |\r"
     ]
    },
    {
     "name": "stdout",
     "output_type": "stream",
     "text": [
      "................End Filling data for sleepwalkerhere ......................... \n",
      "\n",
      "\n",
      ".........807.......Start Filling data for hancock_32 ......................... \n",
      "\n",
      "\n"
     ]
    },
    {
     "name": "stderr",
     "output_type": "stream",
     "text": [
      " 80% |##########################################################              |\r"
     ]
    },
    {
     "name": "stdout",
     "output_type": "stream",
     "text": [
      "................End Filling data for hancock_32 ......................... \n",
      "\n",
      "\n",
      ".........808.......Start Filling data for infinitytgr ......................... \n",
      "\n",
      "\n"
     ]
    },
    {
     "name": "stderr",
     "output_type": "stream",
     "text": [
      " 80% |##########################################################              |\r"
     ]
    },
    {
     "name": "stdout",
     "output_type": "stream",
     "text": [
      "................End Filling data for infinitytgr ......................... \n",
      "\n",
      "\n",
      ".........809.......Start Filling data for dubsbtw ......................... \n",
      "\n",
      "\n"
     ]
    },
    {
     "name": "stderr",
     "output_type": "stream",
     "text": [
      " 81% |##########################################################              |\r"
     ]
    },
    {
     "name": "stdout",
     "output_type": "stream",
     "text": [
      "................End Filling data for dubsbtw ......................... \n",
      "\n",
      "\n",
      ".........810.......Start Filling data for ItsChrysk ......................... \n",
      "\n",
      "\n"
     ]
    },
    {
     "name": "stderr",
     "output_type": "stream",
     "text": [
      " 81% |##########################################################              |\r"
     ]
    },
    {
     "name": "stdout",
     "output_type": "stream",
     "text": [
      "................End Filling data for ItsChrysk ......................... \n",
      "\n",
      "\n",
      ".........811.......Start Filling data for _루브_ ......................... \n",
      "\n",
      "\n"
     ]
    },
    {
     "name": "stderr",
     "output_type": "stream",
     "text": [
      " 81% |##########################################################              |\r"
     ]
    },
    {
     "name": "stdout",
     "output_type": "stream",
     "text": [
      "................End Filling data for _루브_ ......................... \n",
      "\n",
      "\n",
      ".........812.......Start Filling data for SaneAsCanBe ......................... \n",
      "\n",
      "\n"
     ]
    },
    {
     "name": "stderr",
     "output_type": "stream",
     "text": [
      " 81% |##########################################################              |\r"
     ]
    },
    {
     "name": "stdout",
     "output_type": "stream",
     "text": [
      "................End Filling data for SaneAsCanBe ......................... \n",
      "\n",
      "\n",
      ".........813.......Start Filling data for madbomber62 ......................... \n",
      "\n",
      "\n"
     ]
    },
    {
     "name": "stderr",
     "output_type": "stream",
     "text": [
      " 81% |##########################################################              |\r"
     ]
    },
    {
     "name": "stdout",
     "output_type": "stream",
     "text": [
      "................End Filling data for madbomber62 ......................... \n",
      "\n",
      "\n",
      ".........814.......Start Filling data for MiracleBoy22 ......................... \n",
      "\n",
      "\n"
     ]
    },
    {
     "name": "stderr",
     "output_type": "stream",
     "text": [
      " 81% |##########################################################              |\r"
     ]
    },
    {
     "name": "stdout",
     "output_type": "stream",
     "text": [
      "................End Filling data for MiracleBoy22 ......................... \n",
      "\n",
      "\n",
      ".........815.......Start Filling data for dasPara ......................... \n",
      "\n",
      "\n"
     ]
    },
    {
     "name": "stderr",
     "output_type": "stream",
     "text": [
      " 81% |##########################################################              |\r"
     ]
    },
    {
     "name": "stdout",
     "output_type": "stream",
     "text": [
      "................End Filling data for dasPara ......................... \n",
      "\n",
      "\n",
      ".........816.......Start Filling data for SolonasAU79 ......................... \n",
      "\n",
      "\n"
     ]
    },
    {
     "name": "stderr",
     "output_type": "stream",
     "text": [
      " 81% |##########################################################              |\r"
     ]
    },
    {
     "name": "stdout",
     "output_type": "stream",
     "text": [
      "................End Filling data for SolonasAU79 ......................... \n",
      "\n",
      "\n",
      ".........817.......Start Filling data for amelode ......................... \n",
      "\n",
      "\n"
     ]
    },
    {
     "name": "stderr",
     "output_type": "stream",
     "text": [
      " 81% |##########################################################              |\r"
     ]
    },
    {
     "name": "stdout",
     "output_type": "stream",
     "text": [
      "................End Filling data for amelode ......................... \n",
      "\n",
      "\n",
      ".........818.......Start Filling data for Angryboyer ......................... \n",
      "\n",
      "\n"
     ]
    },
    {
     "name": "stderr",
     "output_type": "stream",
     "text": [
      " 81% |##########################################################              |\r"
     ]
    },
    {
     "name": "stdout",
     "output_type": "stream",
     "text": [
      "................End Filling data for Angryboyer ......................... \n",
      "\n",
      "\n",
      ".........819.......Start Filling data for SkajTV ......................... \n",
      "\n",
      "\n"
     ]
    },
    {
     "name": "stderr",
     "output_type": "stream",
     "text": [
      " 82% |###########################################################             |\r"
     ]
    },
    {
     "name": "stdout",
     "output_type": "stream",
     "text": [
      "................End Filling data for SkajTV ......................... \n",
      "\n",
      "\n",
      ".........820.......Start Filling data for 魔羯座霸主 ......................... \n",
      "\n",
      "\n"
     ]
    },
    {
     "name": "stderr",
     "output_type": "stream",
     "text": [
      " 82% |###########################################################             |\r"
     ]
    },
    {
     "name": "stdout",
     "output_type": "stream",
     "text": [
      "................End Filling data for 魔羯座霸主 ......................... \n",
      "\n",
      "\n",
      ".........821.......Start Filling data for CHICKS_18 ......................... \n",
      "\n",
      "\n"
     ]
    },
    {
     "name": "stderr",
     "output_type": "stream",
     "text": [
      " 82% |###########################################################             |\r"
     ]
    },
    {
     "name": "stdout",
     "output_type": "stream",
     "text": [
      "................End Filling data for CHICKS_18 ......................... \n",
      "\n",
      "\n",
      ".........822.......Start Filling data for jmon3y_ ......................... \n",
      "\n",
      "\n"
     ]
    },
    {
     "name": "stderr",
     "output_type": "stream",
     "text": [
      " 82% |###########################################################             |\r"
     ]
    },
    {
     "name": "stdout",
     "output_type": "stream",
     "text": [
      "................End Filling data for jmon3y_ ......................... \n",
      "\n",
      "\n",
      ".........823.......Start Filling data for KienanX ......................... \n",
      "\n",
      "\n"
     ]
    },
    {
     "name": "stderr",
     "output_type": "stream",
     "text": [
      " 82% |###########################################################             |\r"
     ]
    },
    {
     "name": "stdout",
     "output_type": "stream",
     "text": [
      "................End Filling data for KienanX ......................... \n",
      "\n",
      "\n",
      ".........824.......Start Filling data for imdhesenuts ......................... \n",
      "\n",
      "\n"
     ]
    },
    {
     "name": "stderr",
     "output_type": "stream",
     "text": [
      " 82% |###########################################################             |\r"
     ]
    },
    {
     "name": "stdout",
     "output_type": "stream",
     "text": [
      "................End Filling data for imdhesenuts ......................... \n",
      "\n",
      "\n",
      ".........825.......Start Filling data for Ip3n ......................... \n",
      "\n",
      "\n"
     ]
    },
    {
     "name": "stderr",
     "output_type": "stream",
     "text": [
      " 82% |###########################################################             |\r"
     ]
    },
    {
     "name": "stdout",
     "output_type": "stream",
     "text": [
      "................End Filling data for Ip3n ......................... \n",
      "\n",
      "\n",
      ".........826.......Start Filling data for robyneer ......................... \n",
      "\n",
      "\n"
     ]
    },
    {
     "name": "stderr",
     "output_type": "stream",
     "text": [
      " 82% |###########################################################             |\r"
     ]
    },
    {
     "name": "stdout",
     "output_type": "stream",
     "text": [
      "................End Filling data for robyneer ......................... \n",
      "\n",
      "\n",
      ".........827.......Start Filling data for Leenuli ......................... \n",
      "\n",
      "\n"
     ]
    },
    {
     "name": "stderr",
     "output_type": "stream",
     "text": [
      " 82% |###########################################################             |\r"
     ]
    },
    {
     "name": "stdout",
     "output_type": "stream",
     "text": [
      "................End Filling data for Leenuli ......................... \n",
      "\n",
      "\n",
      ".........828.......Start Filling data for resu_ow ......................... \n",
      "\n",
      "\n"
     ]
    },
    {
     "name": "stderr",
     "output_type": "stream",
     "text": [
      " 82% |###########################################################             |\r"
     ]
    },
    {
     "name": "stdout",
     "output_type": "stream",
     "text": [
      "................End Filling data for resu_ow ......................... \n",
      "\n",
      "\n",
      ".........829.......Start Filling data for Relententab ......................... \n",
      "\n",
      "\n"
     ]
    },
    {
     "name": "stderr",
     "output_type": "stream",
     "text": [
      " 83% |###########################################################             |\r"
     ]
    },
    {
     "name": "stdout",
     "output_type": "stream",
     "text": [
      "................End Filling data for Relententab ......................... \n",
      "\n",
      "\n",
      ".........830.......Start Filling data for 板橋余文樂只有仁豪 ......................... \n",
      "\n",
      "\n"
     ]
    },
    {
     "name": "stderr",
     "output_type": "stream",
     "text": [
      " 83% |###########################################################             |\r"
     ]
    },
    {
     "name": "stdout",
     "output_type": "stream",
     "text": [
      "................End Filling data for 板橋余文樂只有仁豪 ......................... \n",
      "\n",
      "\n",
      ".........831.......Start Filling data for Hellyeah987 ......................... \n",
      "\n",
      "\n"
     ]
    },
    {
     "name": "stderr",
     "output_type": "stream",
     "text": [
      " 83% |###########################################################             |\r"
     ]
    },
    {
     "name": "stdout",
     "output_type": "stream",
     "text": [
      "................End Filling data for Hellyeah987 ......................... \n",
      "\n",
      "\n",
      ".........832.......Start Filling data for Bootramp ......................... \n",
      "\n",
      "\n"
     ]
    },
    {
     "name": "stderr",
     "output_type": "stream",
     "text": [
      " 83% |###########################################################             |\r"
     ]
    },
    {
     "name": "stdout",
     "output_type": "stream",
     "text": [
      "................End Filling data for Bootramp ......................... \n",
      "\n",
      "\n",
      ".........833.......Start Filling data for Meltorius ......................... \n",
      "\n",
      "\n"
     ]
    },
    {
     "name": "stderr",
     "output_type": "stream",
     "text": [
      " 83% |############################################################            |\r"
     ]
    },
    {
     "name": "stdout",
     "output_type": "stream",
     "text": [
      "................End Filling data for Meltorius ......................... \n",
      "\n",
      "\n",
      ".........834.......Start Filling data for JessFunder ......................... \n",
      "\n",
      "\n"
     ]
    },
    {
     "name": "stderr",
     "output_type": "stream",
     "text": [
      " 83% |############################################################            |\r"
     ]
    },
    {
     "name": "stdout",
     "output_type": "stream",
     "text": [
      "................End Filling data for JessFunder ......................... \n",
      "\n",
      "\n",
      ".........835.......Start Filling data for X_Chucky_X ......................... \n",
      "\n",
      "\n"
     ]
    },
    {
     "name": "stderr",
     "output_type": "stream",
     "text": [
      " 83% |############################################################            |\r"
     ]
    },
    {
     "name": "stdout",
     "output_type": "stream",
     "text": [
      "................End Filling data for X_Chucky_X ......................... \n",
      "\n",
      "\n",
      ".........836.......Start Filling data for decodaz_ ......................... \n",
      "\n",
      "\n"
     ]
    },
    {
     "name": "stderr",
     "output_type": "stream",
     "text": [
      " 83% |############################################################            |\r"
     ]
    },
    {
     "name": "stdout",
     "output_type": "stream",
     "text": [
      "................End Filling data for decodaz_ ......................... \n",
      "\n",
      "\n",
      ".........837.......Start Filling data for EFT_N3wK1d ......................... \n",
      "\n",
      "\n"
     ]
    },
    {
     "name": "stderr",
     "output_type": "stream",
     "text": [
      " 83% |############################################################            |\r"
     ]
    },
    {
     "name": "stdout",
     "output_type": "stream",
     "text": [
      "................End Filling data for EFT_N3wK1d ......................... \n",
      "\n",
      "\n",
      ".........838.......Start Filling data for gabrixbnh ......................... \n",
      "\n",
      "\n"
     ]
    },
    {
     "name": "stderr",
     "output_type": "stream",
     "text": [
      " 83% |############################################################            |\r"
     ]
    },
    {
     "name": "stdout",
     "output_type": "stream",
     "text": [
      "................End Filling data for gabrixbnh ......................... \n",
      "\n",
      "\n",
      ".........839.......Start Filling data for kyo_anton ......................... \n",
      "\n",
      "\n"
     ]
    },
    {
     "name": "stderr",
     "output_type": "stream",
     "text": [
      " 84% |############################################################            |\r"
     ]
    },
    {
     "name": "stdout",
     "output_type": "stream",
     "text": [
      "................End Filling data for kyo_anton ......................... \n",
      "\n",
      "\n",
      ".........840.......Start Filling data for Ikkisoad ......................... \n",
      "\n",
      "\n"
     ]
    },
    {
     "name": "stderr",
     "output_type": "stream",
     "text": [
      " 84% |############################################################            |\r"
     ]
    },
    {
     "name": "stdout",
     "output_type": "stream",
     "text": [
      "................End Filling data for Ikkisoad ......................... \n",
      "\n",
      "\n",
      ".........841.......Start Filling data for allanterrien ......................... \n",
      "\n",
      "\n"
     ]
    },
    {
     "name": "stderr",
     "output_type": "stream",
     "text": [
      " 84% |############################################################            |\r"
     ]
    },
    {
     "name": "stdout",
     "output_type": "stream",
     "text": [
      "................End Filling data for allanterrien ......................... \n",
      "\n",
      "\n",
      ".........842.......Start Filling data for DerNoxi ......................... \n",
      "\n",
      "\n"
     ]
    },
    {
     "name": "stderr",
     "output_type": "stream",
     "text": [
      " 84% |############################################################            |\r"
     ]
    },
    {
     "name": "stdout",
     "output_type": "stream",
     "text": [
      "................End Filling data for DerNoxi ......................... \n",
      "\n",
      "\n",
      ".........843.......Start Filling data for Redmanmason ......................... \n",
      "\n",
      "\n"
     ]
    },
    {
     "name": "stderr",
     "output_type": "stream",
     "text": [
      " 84% |############################################################            |\r"
     ]
    },
    {
     "name": "stdout",
     "output_type": "stream",
     "text": [
      "................End Filling data for Redmanmason ......................... \n",
      "\n",
      "\n",
      ".........844.......Start Filling data for CarsonBlue ......................... \n",
      "\n",
      "\n"
     ]
    },
    {
     "name": "stderr",
     "output_type": "stream",
     "text": [
      " 84% |############################################################            |\r"
     ]
    },
    {
     "name": "stdout",
     "output_type": "stream",
     "text": [
      "................End Filling data for CarsonBlue ......................... \n",
      "\n",
      "\n",
      ".........845.......Start Filling data for mrjbrackett ......................... \n",
      "\n",
      "\n"
     ]
    },
    {
     "name": "stderr",
     "output_type": "stream",
     "text": [
      " 84% |############################################################            |\r"
     ]
    },
    {
     "name": "stdout",
     "output_type": "stream",
     "text": [
      "................End Filling data for mrjbrackett ......................... \n",
      "\n",
      "\n",
      ".........846.......Start Filling data for 小小薯仔포테토님 ......................... \n",
      "\n",
      "\n"
     ]
    },
    {
     "name": "stderr",
     "output_type": "stream",
     "text": [
      " 84% |############################################################            |\r"
     ]
    },
    {
     "name": "stdout",
     "output_type": "stream",
     "text": [
      "................End Filling data for 小小薯仔포테토님 ......................... \n",
      "\n",
      "\n",
      ".........847.......Start Filling data for Bernulf ......................... \n",
      "\n",
      "\n"
     ]
    },
    {
     "name": "stderr",
     "output_type": "stream",
     "text": [
      " 84% |#############################################################           |\r"
     ]
    },
    {
     "name": "stdout",
     "output_type": "stream",
     "text": [
      "................End Filling data for Bernulf ......................... \n",
      "\n",
      "\n",
      ".........848.......Start Filling data for iCrossOvr ......................... \n",
      "\n",
      "\n"
     ]
    },
    {
     "name": "stderr",
     "output_type": "stream",
     "text": [
      " 84% |#############################################################           |\r"
     ]
    },
    {
     "name": "stdout",
     "output_type": "stream",
     "text": [
      "................End Filling data for iCrossOvr ......................... \n",
      "\n",
      "\n",
      ".........849.......Start Filling data for Lotaharius ......................... \n",
      "\n",
      "\n"
     ]
    },
    {
     "name": "stderr",
     "output_type": "stream",
     "text": [
      " 85% |#############################################################           |\r"
     ]
    },
    {
     "name": "stdout",
     "output_type": "stream",
     "text": [
      "................End Filling data for Lotaharius ......................... \n",
      "\n",
      "\n",
      ".........850.......Start Filling data for CrimsonCanuk ......................... \n",
      "\n",
      "\n"
     ]
    },
    {
     "name": "stderr",
     "output_type": "stream",
     "text": [
      " 85% |#############################################################           |\r"
     ]
    },
    {
     "name": "stdout",
     "output_type": "stream",
     "text": [
      "................End Filling data for CrimsonCanuk ......................... \n",
      "\n",
      "\n",
      ".........851.......Start Filling data for SpaceyBlurr ......................... \n",
      "\n",
      "\n"
     ]
    },
    {
     "name": "stderr",
     "output_type": "stream",
     "text": [
      " 85% |#############################################################           |\r"
     ]
    },
    {
     "name": "stdout",
     "output_type": "stream",
     "text": [
      "................End Filling data for SpaceyBlurr ......................... \n",
      "\n",
      "\n",
      ".........852.......Start Filling data for contemporaryxd ......................... \n",
      "\n",
      "\n"
     ]
    },
    {
     "name": "stderr",
     "output_type": "stream",
     "text": [
      " 85% |#############################################################           |\r"
     ]
    },
    {
     "name": "stdout",
     "output_type": "stream",
     "text": [
      "................End Filling data for contemporaryxd ......................... \n",
      "\n",
      "\n",
      ".........853.......Start Filling data for MelwesT666 ......................... \n",
      "\n",
      "\n"
     ]
    },
    {
     "name": "stderr",
     "output_type": "stream",
     "text": [
      " 85% |#############################################################           |\r"
     ]
    },
    {
     "name": "stdout",
     "output_type": "stream",
     "text": [
      "................End Filling data for MelwesT666 ......................... \n",
      "\n",
      "\n",
      ".........854.......Start Filling data for Sangueonore ......................... \n",
      "\n",
      "\n"
     ]
    },
    {
     "name": "stderr",
     "output_type": "stream",
     "text": [
      " 85% |#############################################################           |\r"
     ]
    },
    {
     "name": "stdout",
     "output_type": "stream",
     "text": [
      "................End Filling data for Sangueonore ......................... \n",
      "\n",
      "\n",
      ".........855.......Start Filling data for MamaBirdd ......................... \n",
      "\n",
      "\n"
     ]
    },
    {
     "name": "stderr",
     "output_type": "stream",
     "text": [
      " 85% |#############################################################           |\r"
     ]
    },
    {
     "name": "stdout",
     "output_type": "stream",
     "text": [
      "................End Filling data for MamaBirdd ......................... \n",
      "\n",
      "\n",
      ".........856.......Start Filling data for Zabeey ......................... \n",
      "\n",
      "\n"
     ]
    },
    {
     "name": "stderr",
     "output_type": "stream",
     "text": [
      " 85% |#############################################################           |\r"
     ]
    },
    {
     "name": "stdout",
     "output_type": "stream",
     "text": [
      "................End Filling data for Zabeey ......................... \n",
      "\n",
      "\n",
      ".........857.......Start Filling data for Saber893 ......................... \n",
      "\n",
      "\n"
     ]
    },
    {
     "name": "stderr",
     "output_type": "stream",
     "text": [
      " 85% |#############################################################           |\r"
     ]
    },
    {
     "name": "stdout",
     "output_type": "stream",
     "text": [
      "................End Filling data for Saber893 ......................... \n",
      "\n",
      "\n",
      ".........858.......Start Filling data for zumoritojr ......................... \n",
      "\n",
      "\n"
     ]
    },
    {
     "name": "stderr",
     "output_type": "stream",
     "text": [
      " 85% |#############################################################           |\r"
     ]
    },
    {
     "name": "stdout",
     "output_type": "stream",
     "text": [
      "................End Filling data for zumoritojr ......................... \n",
      "\n",
      "\n",
      ".........859.......Start Filling data for Paolacrayolaa ......................... \n",
      "\n",
      "\n"
     ]
    },
    {
     "name": "stderr",
     "output_type": "stream",
     "text": [
      " 86% |#############################################################           |\r"
     ]
    },
    {
     "name": "stdout",
     "output_type": "stream",
     "text": [
      "................End Filling data for Paolacrayolaa ......................... \n",
      "\n",
      "\n",
      ".........860.......Start Filling data for 영양만점연양갱 ......................... \n",
      "\n",
      "\n"
     ]
    },
    {
     "name": "stderr",
     "output_type": "stream",
     "text": [
      " 86% |#############################################################           |\r"
     ]
    },
    {
     "name": "stdout",
     "output_type": "stream",
     "text": [
      "................End Filling data for 영양만점연양갱 ......................... \n",
      "\n",
      "\n",
      ".........861.......Start Filling data for naBs141 ......................... \n",
      "\n",
      "\n"
     ]
    },
    {
     "name": "stderr",
     "output_type": "stream",
     "text": [
      " 86% |##############################################################          |\r"
     ]
    },
    {
     "name": "stdout",
     "output_type": "stream",
     "text": [
      "................End Filling data for naBs141 ......................... \n",
      "\n",
      "\n",
      ".........862.......Start Filling data for blazyb ......................... \n",
      "\n",
      "\n"
     ]
    },
    {
     "name": "stderr",
     "output_type": "stream",
     "text": [
      " 86% |##############################################################          |\r"
     ]
    },
    {
     "name": "stdout",
     "output_type": "stream",
     "text": [
      "................End Filling data for blazyb ......................... \n",
      "\n",
      "\n",
      ".........863.......Start Filling data for Nate_eh ......................... \n",
      "\n",
      "\n"
     ]
    },
    {
     "name": "stderr",
     "output_type": "stream",
     "text": [
      " 86% |##############################################################          |\r"
     ]
    },
    {
     "name": "stdout",
     "output_type": "stream",
     "text": [
      "................End Filling data for Nate_eh ......................... \n",
      "\n",
      "\n",
      ".........864.......Start Filling data for Nuuyoo ......................... \n",
      "\n",
      "\n"
     ]
    },
    {
     "name": "stderr",
     "output_type": "stream",
     "text": [
      " 86% |##############################################################          |\r"
     ]
    },
    {
     "name": "stdout",
     "output_type": "stream",
     "text": [
      "................End Filling data for Nuuyoo ......................... \n",
      "\n",
      "\n",
      ".........865.......Start Filling data for Tiger_Lily ......................... \n",
      "\n",
      "\n"
     ]
    },
    {
     "name": "stderr",
     "output_type": "stream",
     "text": [
      " 86% |##############################################################          |\r"
     ]
    },
    {
     "name": "stdout",
     "output_type": "stream",
     "text": [
      "................End Filling data for Tiger_Lily ......................... \n",
      "\n",
      "\n",
      ".........866.......Start Filling data for 헬독_ ......................... \n",
      "\n",
      "\n"
     ]
    },
    {
     "name": "stderr",
     "output_type": "stream",
     "text": [
      " 86% |##############################################################          |\r"
     ]
    },
    {
     "name": "stdout",
     "output_type": "stream",
     "text": [
      "................End Filling data for 헬독_ ......................... \n",
      "\n",
      "\n",
      ".........867.......Start Filling data for Sk8_Geek ......................... \n",
      "\n",
      "\n"
     ]
    },
    {
     "name": "stderr",
     "output_type": "stream",
     "text": [
      " 86% |##############################################################          |\r"
     ]
    },
    {
     "name": "stdout",
     "output_type": "stream",
     "text": [
      "................End Filling data for Sk8_Geek ......................... \n",
      "\n",
      "\n",
      ".........868.......Start Filling data for DatHass ......................... \n",
      "\n",
      "\n"
     ]
    },
    {
     "name": "stderr",
     "output_type": "stream",
     "text": [
      " 86% |##############################################################          |\r"
     ]
    },
    {
     "name": "stdout",
     "output_type": "stream",
     "text": [
      "................End Filling data for DatHass ......................... \n",
      "\n",
      "\n",
      ".........869.......Start Filling data for MooseBeaRR ......................... \n",
      "\n",
      "\n"
     ]
    },
    {
     "name": "stderr",
     "output_type": "stream",
     "text": [
      " 87% |##############################################################          |\r"
     ]
    },
    {
     "name": "stdout",
     "output_type": "stream",
     "text": [
      "................End Filling data for MooseBeaRR ......................... \n",
      "\n",
      "\n",
      ".........870.......Start Filling data for annuska_ ......................... \n",
      "\n",
      "\n"
     ]
    },
    {
     "name": "stderr",
     "output_type": "stream",
     "text": [
      " 87% |##############################################################          |\r"
     ]
    },
    {
     "name": "stdout",
     "output_type": "stream",
     "text": [
      "................End Filling data for annuska_ ......................... \n",
      "\n",
      "\n",
      ".........871.......Start Filling data for Jeff_Allen96 ......................... \n",
      "\n",
      "\n"
     ]
    },
    {
     "name": "stderr",
     "output_type": "stream",
     "text": [
      " 87% |##############################################################          |\r"
     ]
    },
    {
     "name": "stdout",
     "output_type": "stream",
     "text": [
      "................End Filling data for Jeff_Allen96 ......................... \n",
      "\n",
      "\n",
      ".........872.......Start Filling data for fingers286 ......................... \n",
      "\n",
      "\n"
     ]
    },
    {
     "name": "stderr",
     "output_type": "stream",
     "text": [
      " 87% |##############################################################          |\r"
     ]
    },
    {
     "name": "stdout",
     "output_type": "stream",
     "text": [
      "................End Filling data for fingers286 ......................... \n",
      "\n",
      "\n",
      ".........873.......Start Filling data for murumuruchan ......................... \n",
      "\n",
      "\n"
     ]
    },
    {
     "name": "stderr",
     "output_type": "stream",
     "text": [
      " 87% |##############################################################          |\r"
     ]
    },
    {
     "name": "stdout",
     "output_type": "stream",
     "text": [
      "................End Filling data for murumuruchan ......................... \n",
      "\n",
      "\n",
      ".........874.......Start Filling data for Witchs_Hex ......................... \n",
      "\n",
      "\n"
     ]
    },
    {
     "name": "stderr",
     "output_type": "stream",
     "text": [
      " 87% |###############################################################         |\r"
     ]
    },
    {
     "name": "stdout",
     "output_type": "stream",
     "text": [
      "................End Filling data for Witchs_Hex ......................... \n",
      "\n",
      "\n",
      ".........875.......Start Filling data for obivanpridipls ......................... \n",
      "\n",
      "\n"
     ]
    },
    {
     "name": "stderr",
     "output_type": "stream",
     "text": [
      " 87% |###############################################################         |\r"
     ]
    },
    {
     "name": "stdout",
     "output_type": "stream",
     "text": [
      "................End Filling data for obivanpridipls ......................... \n",
      "\n",
      "\n",
      ".........876.......Start Filling data for FippsiR6S ......................... \n",
      "\n",
      "\n"
     ]
    },
    {
     "name": "stderr",
     "output_type": "stream",
     "text": [
      " 87% |###############################################################         |\r"
     ]
    },
    {
     "name": "stdout",
     "output_type": "stream",
     "text": [
      "................End Filling data for FippsiR6S ......................... \n",
      "\n",
      "\n",
      ".........877.......Start Filling data for maniika ......................... \n",
      "\n",
      "\n"
     ]
    },
    {
     "name": "stderr",
     "output_type": "stream",
     "text": [
      " 87% |###############################################################         |\r"
     ]
    },
    {
     "name": "stdout",
     "output_type": "stream",
     "text": [
      "................End Filling data for maniika ......................... \n",
      "\n",
      "\n",
      ".........878.......Start Filling data for ioffside ......................... \n",
      "\n",
      "\n"
     ]
    },
    {
     "name": "stderr",
     "output_type": "stream",
     "text": [
      " 87% |###############################################################         |\r"
     ]
    },
    {
     "name": "stdout",
     "output_type": "stream",
     "text": [
      "................End Filling data for ioffside ......................... \n",
      "\n",
      "\n",
      ".........879.......Start Filling data for iiiScore ......................... \n",
      "\n",
      "\n"
     ]
    },
    {
     "name": "stderr",
     "output_type": "stream",
     "text": [
      " 88% |###############################################################         |\r"
     ]
    },
    {
     "name": "stdout",
     "output_type": "stream",
     "text": [
      "................End Filling data for iiiScore ......................... \n",
      "\n",
      "\n",
      ".........880.......Start Filling data for AceTMWC ......................... \n",
      "\n",
      "\n"
     ]
    },
    {
     "name": "stderr",
     "output_type": "stream",
     "text": [
      " 88% |###############################################################         |\r"
     ]
    },
    {
     "name": "stdout",
     "output_type": "stream",
     "text": [
      "................End Filling data for AceTMWC ......................... \n",
      "\n",
      "\n",
      ".........881.......Start Filling data for int3r4ct ......................... \n",
      "\n",
      "\n"
     ]
    },
    {
     "name": "stderr",
     "output_type": "stream",
     "text": [
      " 88% |###############################################################         |\r"
     ]
    },
    {
     "name": "stdout",
     "output_type": "stream",
     "text": [
      "................End Filling data for int3r4ct ......................... \n",
      "\n",
      "\n",
      ".........882.......Start Filling data for Dat_MTX ......................... \n",
      "\n",
      "\n"
     ]
    },
    {
     "name": "stderr",
     "output_type": "stream",
     "text": [
      " 88% |###############################################################         |\r"
     ]
    },
    {
     "name": "stdout",
     "output_type": "stream",
     "text": [
      "................End Filling data for Dat_MTX ......................... \n",
      "\n",
      "\n",
      ".........883.......Start Filling data for TargetPK ......................... \n",
      "\n",
      "\n"
     ]
    },
    {
     "name": "stderr",
     "output_type": "stream",
     "text": [
      " 88% |###############################################################         |\r"
     ]
    },
    {
     "name": "stdout",
     "output_type": "stream",
     "text": [
      "................End Filling data for TargetPK ......................... \n",
      "\n",
      "\n",
      ".........884.......Start Filling data for D_L_C_ ......................... \n",
      "\n",
      "\n"
     ]
    },
    {
     "name": "stderr",
     "output_type": "stream",
     "text": [
      " 88% |###############################################################         |\r"
     ]
    },
    {
     "name": "stdout",
     "output_type": "stream",
     "text": [
      "................End Filling data for D_L_C_ ......................... \n",
      "\n",
      "\n",
      ".........885.......Start Filling data for EbertG4ming ......................... \n",
      "\n",
      "\n"
     ]
    },
    {
     "name": "stderr",
     "output_type": "stream",
     "text": [
      " 88% |###############################################################         |\r"
     ]
    },
    {
     "name": "stdout",
     "output_type": "stream",
     "text": [
      "................End Filling data for EbertG4ming ......................... \n",
      "\n",
      "\n",
      ".........886.......Start Filling data for GuitarSolo ......................... \n",
      "\n",
      "\n"
     ]
    },
    {
     "name": "stderr",
     "output_type": "stream",
     "text": [
      " 88% |###############################################################         |\r"
     ]
    },
    {
     "name": "stdout",
     "output_type": "stream",
     "text": [
      "................End Filling data for GuitarSolo ......................... \n",
      "\n",
      "\n",
      ".........887.......Start Filling data for Pixie1904 ......................... \n",
      "\n",
      "\n"
     ]
    },
    {
     "name": "stderr",
     "output_type": "stream",
     "text": [
      " 88% |###############################################################         |\r"
     ]
    },
    {
     "name": "stdout",
     "output_type": "stream",
     "text": [
      "................End Filling data for Pixie1904 ......................... \n",
      "\n",
      "\n",
      ".........888.......Start Filling data for lokenblueshift5157 ......................... \n",
      "\n",
      "\n"
     ]
    },
    {
     "name": "stderr",
     "output_type": "stream",
     "text": [
      " 88% |################################################################        |\r"
     ]
    },
    {
     "name": "stdout",
     "output_type": "stream",
     "text": [
      "................End Filling data for lokenblueshift5157 ......................... \n",
      "\n",
      "\n",
      ".........889.......Start Filling data for BekahBear101 ......................... \n",
      "\n",
      "\n"
     ]
    },
    {
     "name": "stderr",
     "output_type": "stream",
     "text": [
      " 89% |################################################################        |\r"
     ]
    },
    {
     "name": "stdout",
     "output_type": "stream",
     "text": [
      "................End Filling data for BekahBear101 ......................... \n",
      "\n",
      "\n",
      ".........890.......Start Filling data for Kanzooo ......................... \n",
      "\n",
      "\n"
     ]
    },
    {
     "name": "stderr",
     "output_type": "stream",
     "text": [
      " 89% |################################################################        |\r"
     ]
    },
    {
     "name": "stdout",
     "output_type": "stream",
     "text": [
      "................End Filling data for Kanzooo ......................... \n",
      "\n",
      "\n",
      ".........891.......Start Filling data for cmerkxx ......................... \n",
      "\n",
      "\n"
     ]
    },
    {
     "name": "stderr",
     "output_type": "stream",
     "text": [
      " 89% |################################################################        |\r"
     ]
    },
    {
     "name": "stdout",
     "output_type": "stream",
     "text": [
      "................End Filling data for cmerkxx ......................... \n",
      "\n",
      "\n",
      ".........892.......Start Filling data for Lynnfeea ......................... \n",
      "\n",
      "\n"
     ]
    },
    {
     "name": "stderr",
     "output_type": "stream",
     "text": [
      " 89% |################################################################        |\r"
     ]
    },
    {
     "name": "stdout",
     "output_type": "stream",
     "text": [
      "................End Filling data for Lynnfeea ......................... \n",
      "\n",
      "\n",
      ".........893.......Start Filling data for Jendawy ......................... \n",
      "\n",
      "\n"
     ]
    },
    {
     "name": "stderr",
     "output_type": "stream",
     "text": [
      " 89% |################################################################        |\r"
     ]
    },
    {
     "name": "stdout",
     "output_type": "stream",
     "text": [
      "................End Filling data for Jendawy ......................... \n",
      "\n",
      "\n",
      ".........894.......Start Filling data for OWXChampionship ......................... \n",
      "\n",
      "\n"
     ]
    },
    {
     "name": "stderr",
     "output_type": "stream",
     "text": [
      " 89% |################################################################        |\r"
     ]
    },
    {
     "name": "stdout",
     "output_type": "stream",
     "text": [
      "................End Filling data for OWXChampionship ......................... \n",
      "\n",
      "\n",
      ".........895.......Start Filling data for MadBozeN ......................... \n",
      "\n",
      "\n"
     ]
    },
    {
     "name": "stderr",
     "output_type": "stream",
     "text": [
      " 89% |################################################################        |\r"
     ]
    },
    {
     "name": "stdout",
     "output_type": "stream",
     "text": [
      "................End Filling data for MadBozeN ......................... \n",
      "\n",
      "\n",
      ".........896.......Start Filling data for maleyco ......................... \n",
      "\n",
      "\n"
     ]
    },
    {
     "name": "stderr",
     "output_type": "stream",
     "text": [
      " 89% |################################################################        |\r"
     ]
    },
    {
     "name": "stdout",
     "output_type": "stream",
     "text": [
      "................End Filling data for maleyco ......................... \n",
      "\n",
      "\n",
      ".........897.......Start Filling data for SeraphimWarriors ......................... \n",
      "\n",
      "\n"
     ]
    },
    {
     "name": "stderr",
     "output_type": "stream",
     "text": [
      " 89% |################################################################        |\r"
     ]
    },
    {
     "name": "stdout",
     "output_type": "stream",
     "text": [
      "................End Filling data for SeraphimWarriors ......................... \n",
      "\n",
      "\n",
      ".........898.......Start Filling data for PE7Z ......................... \n",
      "\n",
      "\n"
     ]
    },
    {
     "name": "stderr",
     "output_type": "stream",
     "text": [
      " 89% |################################################################        |\r"
     ]
    },
    {
     "name": "stdout",
     "output_type": "stream",
     "text": [
      "................End Filling data for PE7Z ......................... \n",
      "\n",
      "\n",
      ".........899.......Start Filling data for Kastaneda ......................... \n",
      "\n",
      "\n"
     ]
    },
    {
     "name": "stderr",
     "output_type": "stream",
     "text": [
      " 90% |################################################################        |\r"
     ]
    },
    {
     "name": "stdout",
     "output_type": "stream",
     "text": [
      "................End Filling data for Kastaneda ......................... \n",
      "\n",
      "\n",
      ".........900.......Start Filling data for randomarmylive ......................... \n",
      "\n",
      "\n"
     ]
    },
    {
     "name": "stderr",
     "output_type": "stream",
     "text": [
      " 90% |################################################################        |\r"
     ]
    },
    {
     "name": "stdout",
     "output_type": "stream",
     "text": [
      "................End Filling data for randomarmylive ......................... \n",
      "\n",
      "\n",
      ".........901.......Start Filling data for Sotuda ......................... \n",
      "\n",
      "\n"
     ]
    },
    {
     "name": "stderr",
     "output_type": "stream",
     "text": [
      " 90% |################################################################        |\r"
     ]
    },
    {
     "name": "stdout",
     "output_type": "stream",
     "text": [
      "................End Filling data for Sotuda ......................... \n",
      "\n",
      "\n",
      ".........902.......Start Filling data for Quinteross ......................... \n",
      "\n",
      "\n"
     ]
    },
    {
     "name": "stderr",
     "output_type": "stream",
     "text": [
      " 90% |#################################################################       |\r"
     ]
    },
    {
     "name": "stdout",
     "output_type": "stream",
     "text": [
      "................End Filling data for Quinteross ......................... \n",
      "\n",
      "\n",
      ".........903.......Start Filling data for cortextw ......................... \n",
      "\n",
      "\n"
     ]
    },
    {
     "name": "stderr",
     "output_type": "stream",
     "text": [
      " 90% |#################################################################       |\r"
     ]
    },
    {
     "name": "stdout",
     "output_type": "stream",
     "text": [
      "................End Filling data for cortextw ......................... \n",
      "\n",
      "\n",
      ".........904.......Start Filling data for dnfi_ ......................... \n",
      "\n",
      "\n"
     ]
    },
    {
     "name": "stderr",
     "output_type": "stream",
     "text": [
      " 90% |#################################################################       |\r"
     ]
    },
    {
     "name": "stdout",
     "output_type": "stream",
     "text": [
      "................End Filling data for dnfi_ ......................... \n",
      "\n",
      "\n",
      ".........905.......Start Filling data for SwiftKarateChop ......................... \n",
      "\n",
      "\n"
     ]
    },
    {
     "name": "stderr",
     "output_type": "stream",
     "text": [
      " 90% |#################################################################       |\r"
     ]
    },
    {
     "name": "stdout",
     "output_type": "stream",
     "text": [
      "................End Filling data for SwiftKarateChop ......................... \n",
      "\n",
      "\n",
      ".........906.......Start Filling data for Spudd_Gaming_ ......................... \n",
      "\n",
      "\n"
     ]
    },
    {
     "name": "stderr",
     "output_type": "stream",
     "text": [
      " 90% |#################################################################       |\r"
     ]
    },
    {
     "name": "stdout",
     "output_type": "stream",
     "text": [
      "................End Filling data for Spudd_Gaming_ ......................... \n",
      "\n",
      "\n",
      ".........907.......Start Filling data for Hopee__ ......................... \n",
      "\n",
      "\n"
     ]
    },
    {
     "name": "stderr",
     "output_type": "stream",
     "text": [
      " 90% |#################################################################       |\r"
     ]
    },
    {
     "name": "stdout",
     "output_type": "stream",
     "text": [
      "................End Filling data for Hopee__ ......................... \n",
      "\n",
      "\n",
      ".........908.......Start Filling data for SyCore82 ......................... \n",
      "\n",
      "\n"
     ]
    },
    {
     "name": "stderr",
     "output_type": "stream",
     "text": [
      " 90% |#################################################################       |\r"
     ]
    },
    {
     "name": "stdout",
     "output_type": "stream",
     "text": [
      "................End Filling data for SyCore82 ......................... \n",
      "\n",
      "\n",
      ".........909.......Start Filling data for SuperCourage ......................... \n",
      "\n",
      "\n"
     ]
    },
    {
     "name": "stderr",
     "output_type": "stream",
     "text": [
      " 91% |#################################################################       |\r"
     ]
    },
    {
     "name": "stdout",
     "output_type": "stream",
     "text": [
      "................End Filling data for SuperCourage ......................... \n",
      "\n",
      "\n",
      ".........910.......Start Filling data for rinnieb ......................... \n",
      "\n",
      "\n"
     ]
    },
    {
     "name": "stderr",
     "output_type": "stream",
     "text": [
      " 91% |#################################################################       |\r"
     ]
    },
    {
     "name": "stdout",
     "output_type": "stream",
     "text": [
      "................End Filling data for rinnieb ......................... \n",
      "\n",
      "\n",
      ".........911.......Start Filling data for WorldOfUs ......................... \n",
      "\n",
      "\n"
     ]
    },
    {
     "name": "stderr",
     "output_type": "stream",
     "text": [
      " 91% |#################################################################       |\r"
     ]
    },
    {
     "name": "stdout",
     "output_type": "stream",
     "text": [
      "................End Filling data for WorldOfUs ......................... \n",
      "\n",
      "\n",
      ".........912.......Start Filling data for LastPrismAlex ......................... \n",
      "\n",
      "\n"
     ]
    },
    {
     "name": "stderr",
     "output_type": "stream",
     "text": [
      " 91% |#################################################################       |\r"
     ]
    },
    {
     "name": "stdout",
     "output_type": "stream",
     "text": [
      "................End Filling data for LastPrismAlex ......................... \n",
      "\n",
      "\n",
      ".........913.......Start Filling data for TeasyClassic ......................... \n",
      "\n",
      "\n"
     ]
    },
    {
     "name": "stderr",
     "output_type": "stream",
     "text": [
      " 91% |#################################################################       |\r"
     ]
    },
    {
     "name": "stdout",
     "output_type": "stream",
     "text": [
      "................End Filling data for TeasyClassic ......................... \n",
      "\n",
      "\n",
      ".........914.......Start Filling data for Nothar8 ......................... \n",
      "\n",
      "\n"
     ]
    },
    {
     "name": "stderr",
     "output_type": "stream",
     "text": [
      " 91% |#################################################################       |\r"
     ]
    },
    {
     "name": "stdout",
     "output_type": "stream",
     "text": [
      "................End Filling data for Nothar8 ......................... \n",
      "\n",
      "\n",
      ".........915.......Start Filling data for Tidsu ......................... \n",
      "\n",
      "\n"
     ]
    },
    {
     "name": "stderr",
     "output_type": "stream",
     "text": [
      " 91% |#################################################################       |\r"
     ]
    },
    {
     "name": "stdout",
     "output_type": "stream",
     "text": [
      "................End Filling data for Tidsu ......................... \n",
      "\n",
      "\n",
      ".........916.......Start Filling data for bangoCS ......................... \n",
      "\n",
      "\n"
     ]
    },
    {
     "name": "stderr",
     "output_type": "stream",
     "text": [
      " 91% |##################################################################      |\r"
     ]
    },
    {
     "name": "stdout",
     "output_type": "stream",
     "text": [
      "................End Filling data for bangoCS ......................... \n",
      "\n",
      "\n",
      ".........917.......Start Filling data for Hya_72 ......................... \n",
      "\n",
      "\n"
     ]
    },
    {
     "name": "stderr",
     "output_type": "stream",
     "text": [
      " 91% |##################################################################      |\r"
     ]
    },
    {
     "name": "stdout",
     "output_type": "stream",
     "text": [
      "................End Filling data for Hya_72 ......................... \n",
      "\n",
      "\n",
      ".........918.......Start Filling data for Splendidtank ......................... \n",
      "\n",
      "\n"
     ]
    },
    {
     "name": "stderr",
     "output_type": "stream",
     "text": [
      " 91% |##################################################################      |\r"
     ]
    },
    {
     "name": "stdout",
     "output_type": "stream",
     "text": [
      "................End Filling data for Splendidtank ......................... \n",
      "\n",
      "\n",
      ".........919.......Start Filling data for PriceFlow ......................... \n",
      "\n",
      "\n"
     ]
    },
    {
     "name": "stderr",
     "output_type": "stream",
     "text": [
      " 92% |##################################################################      |\r"
     ]
    },
    {
     "name": "stdout",
     "output_type": "stream",
     "text": [
      "................End Filling data for PriceFlow ......................... \n",
      "\n",
      "\n",
      ".........920.......Start Filling data for Bathinjan ......................... \n",
      "\n",
      "\n"
     ]
    },
    {
     "name": "stderr",
     "output_type": "stream",
     "text": [
      " 92% |##################################################################      |\r"
     ]
    },
    {
     "name": "stdout",
     "output_type": "stream",
     "text": [
      "................End Filling data for Bathinjan ......................... \n",
      "\n",
      "\n",
      ".........921.......Start Filling data for Winterhund ......................... \n",
      "\n",
      "\n"
     ]
    },
    {
     "name": "stderr",
     "output_type": "stream",
     "text": [
      " 92% |##################################################################      |\r"
     ]
    },
    {
     "name": "stdout",
     "output_type": "stream",
     "text": [
      "................End Filling data for Winterhund ......................... \n",
      "\n",
      "\n",
      ".........922.......Start Filling data for jaffacaketv ......................... \n",
      "\n",
      "\n"
     ]
    },
    {
     "name": "stderr",
     "output_type": "stream",
     "text": [
      " 92% |##################################################################      |\r"
     ]
    },
    {
     "name": "stdout",
     "output_type": "stream",
     "text": [
      "................End Filling data for jaffacaketv ......................... \n",
      "\n",
      "\n",
      ".........923.......Start Filling data for TechAndGames ......................... \n",
      "\n",
      "\n"
     ]
    },
    {
     "name": "stderr",
     "output_type": "stream",
     "text": [
      " 92% |##################################################################      |\r"
     ]
    },
    {
     "name": "stdout",
     "output_type": "stream",
     "text": [
      "................End Filling data for TechAndGames ......................... \n",
      "\n",
      "\n",
      ".........924.......Start Filling data for StrikerTV89 ......................... \n",
      "\n",
      "\n"
     ]
    },
    {
     "name": "stderr",
     "output_type": "stream",
     "text": [
      " 92% |##################################################################      |\r"
     ]
    },
    {
     "name": "stdout",
     "output_type": "stream",
     "text": [
      "................End Filling data for StrikerTV89 ......................... \n",
      "\n",
      "\n",
      ".........925.......Start Filling data for sir_insane_ ......................... \n",
      "\n",
      "\n"
     ]
    },
    {
     "name": "stderr",
     "output_type": "stream",
     "text": [
      " 92% |##################################################################      |\r"
     ]
    },
    {
     "name": "stdout",
     "output_type": "stream",
     "text": [
      "................End Filling data for sir_insane_ ......................... \n",
      "\n",
      "\n",
      ".........926.......Start Filling data for CNLee ......................... \n",
      "\n",
      "\n"
     ]
    },
    {
     "name": "stderr",
     "output_type": "stream",
     "text": [
      " 92% |##################################################################      |\r"
     ]
    },
    {
     "name": "stdout",
     "output_type": "stream",
     "text": [
      "................End Filling data for CNLee ......................... \n",
      "\n",
      "\n",
      ".........927.......Start Filling data for dianeleigh ......................... \n",
      "\n",
      "\n"
     ]
    },
    {
     "name": "stderr",
     "output_type": "stream",
     "text": [
      " 92% |##################################################################      |\r"
     ]
    },
    {
     "name": "stdout",
     "output_type": "stream",
     "text": [
      "................End Filling data for dianeleigh ......................... \n",
      "\n",
      "\n",
      ".........928.......Start Filling data for chillyfom ......................... \n",
      "\n",
      "\n"
     ]
    },
    {
     "name": "stderr",
     "output_type": "stream",
     "text": [
      " 92% |##################################################################      |\r"
     ]
    },
    {
     "name": "stdout",
     "output_type": "stream",
     "text": [
      "................End Filling data for chillyfom ......................... \n",
      "\n",
      "\n",
      ".........929.......Start Filling data for Sonox3 ......................... \n",
      "\n",
      "\n"
     ]
    },
    {
     "name": "stderr",
     "output_type": "stream",
     "text": [
      " 93% |##################################################################      |\r"
     ]
    },
    {
     "name": "stdout",
     "output_type": "stream",
     "text": [
      "................End Filling data for Sonox3 ......................... \n",
      "\n",
      "\n",
      ".........930.......Start Filling data for DVISl0N ......................... \n",
      "\n",
      "\n"
     ]
    },
    {
     "name": "stderr",
     "output_type": "stream",
     "text": [
      " 93% |###################################################################     |\r"
     ]
    },
    {
     "name": "stdout",
     "output_type": "stream",
     "text": [
      "................End Filling data for DVISl0N ......................... \n",
      "\n",
      "\n",
      ".........931.......Start Filling data for RoxStaiL ......................... \n",
      "\n",
      "\n"
     ]
    },
    {
     "name": "stderr",
     "output_type": "stream",
     "text": [
      " 93% |###################################################################     |\r"
     ]
    },
    {
     "name": "stdout",
     "output_type": "stream",
     "text": [
      "................End Filling data for RoxStaiL ......................... \n",
      "\n",
      "\n",
      ".........932.......Start Filling data for NWTG_Clan ......................... \n",
      "\n",
      "\n"
     ]
    },
    {
     "name": "stderr",
     "output_type": "stream",
     "text": [
      " 93% |###################################################################     |\r"
     ]
    },
    {
     "name": "stdout",
     "output_type": "stream",
     "text": [
      "................End Filling data for NWTG_Clan ......................... \n",
      "\n",
      "\n",
      ".........933.......Start Filling data for MaxKbec_LAPS ......................... \n",
      "\n",
      "\n"
     ]
    },
    {
     "name": "stderr",
     "output_type": "stream",
     "text": [
      " 93% |###################################################################     |\r"
     ]
    },
    {
     "name": "stdout",
     "output_type": "stream",
     "text": [
      "................End Filling data for MaxKbec_LAPS ......................... \n",
      "\n",
      "\n",
      ".........934.......Start Filling data for El_Saso ......................... \n",
      "\n",
      "\n"
     ]
    },
    {
     "name": "stderr",
     "output_type": "stream",
     "text": [
      " 93% |###################################################################     |\r"
     ]
    },
    {
     "name": "stdout",
     "output_type": "stream",
     "text": [
      "................End Filling data for El_Saso ......................... \n",
      "\n",
      "\n",
      ".........935.......Start Filling data for LB_WOLF_P4CK4 ......................... \n",
      "\n",
      "\n"
     ]
    },
    {
     "name": "stderr",
     "output_type": "stream",
     "text": [
      " 93% |###################################################################     |\r"
     ]
    },
    {
     "name": "stdout",
     "output_type": "stream",
     "text": [
      "................End Filling data for LB_WOLF_P4CK4 ......................... \n",
      "\n",
      "\n",
      ".........936.......Start Filling data for TheRouza ......................... \n",
      "\n",
      "\n"
     ]
    },
    {
     "name": "stderr",
     "output_type": "stream",
     "text": [
      " 93% |###################################################################     |\r"
     ]
    },
    {
     "name": "stdout",
     "output_type": "stream",
     "text": [
      "................End Filling data for TheRouza ......................... \n",
      "\n",
      "\n",
      ".........937.......Start Filling data for faucherx27 ......................... \n",
      "\n",
      "\n"
     ]
    },
    {
     "name": "stderr",
     "output_type": "stream",
     "text": [
      " 93% |###################################################################     |\r"
     ]
    },
    {
     "name": "stdout",
     "output_type": "stream",
     "text": [
      "................End Filling data for faucherx27 ......................... \n",
      "\n",
      "\n",
      ".........938.......Start Filling data for Gamuni ......................... \n",
      "\n",
      "\n"
     ]
    },
    {
     "name": "stderr",
     "output_type": "stream",
     "text": [
      " 93% |###################################################################     |\r"
     ]
    },
    {
     "name": "stdout",
     "output_type": "stream",
     "text": [
      "................End Filling data for Gamuni ......................... \n",
      "\n",
      "\n",
      ".........939.......Start Filling data for cashxist ......................... \n",
      "\n",
      "\n"
     ]
    },
    {
     "name": "stderr",
     "output_type": "stream",
     "text": [
      " 94% |###################################################################     |\r"
     ]
    },
    {
     "name": "stdout",
     "output_type": "stream",
     "text": [
      "................End Filling data for cashxist ......................... \n",
      "\n",
      "\n",
      ".........940.......Start Filling data for SirDukan ......................... \n",
      "\n",
      "\n"
     ]
    },
    {
     "name": "stderr",
     "output_type": "stream",
     "text": [
      " 94% |###################################################################     |\r"
     ]
    },
    {
     "name": "stdout",
     "output_type": "stream",
     "text": [
      "................End Filling data for SirDukan ......................... \n",
      "\n",
      "\n",
      ".........941.......Start Filling data for HeavyMetalQueen ......................... \n",
      "\n",
      "\n"
     ]
    },
    {
     "name": "stderr",
     "output_type": "stream",
     "text": [
      " 94% |###################################################################     |\r"
     ]
    },
    {
     "name": "stdout",
     "output_type": "stream",
     "text": [
      "................End Filling data for HeavyMetalQueen ......................... \n",
      "\n",
      "\n",
      ".........942.......Start Filling data for Fluva ......................... \n",
      "\n",
      "\n"
     ]
    },
    {
     "name": "stderr",
     "output_type": "stream",
     "text": [
      " 94% |###################################################################     |\r"
     ]
    },
    {
     "name": "stdout",
     "output_type": "stream",
     "text": [
      "................End Filling data for Fluva ......................... \n",
      "\n",
      "\n",
      ".........943.......Start Filling data for Peassa ......................... \n",
      "\n",
      "\n"
     ]
    },
    {
     "name": "stderr",
     "output_type": "stream",
     "text": [
      " 94% |###################################################################     |\r"
     ]
    },
    {
     "name": "stdout",
     "output_type": "stream",
     "text": [
      "................End Filling data for Peassa ......................... \n",
      "\n",
      "\n",
      ".........944.......Start Filling data for nilswithskills ......................... \n",
      "\n",
      "\n"
     ]
    },
    {
     "name": "stderr",
     "output_type": "stream",
     "text": [
      " 94% |####################################################################    |\r"
     ]
    },
    {
     "name": "stdout",
     "output_type": "stream",
     "text": [
      "................End Filling data for nilswithskills ......................... \n",
      "\n",
      "\n",
      ".........945.......Start Filling data for Bestgirlx ......................... \n",
      "\n",
      "\n"
     ]
    },
    {
     "name": "stderr",
     "output_type": "stream",
     "text": [
      " 94% |####################################################################    |\r"
     ]
    },
    {
     "name": "stdout",
     "output_type": "stream",
     "text": [
      "................End Filling data for Bestgirlx ......................... \n",
      "\n",
      "\n",
      ".........946.......Start Filling data for Anymuus ......................... \n",
      "\n",
      "\n"
     ]
    },
    {
     "name": "stderr",
     "output_type": "stream",
     "text": [
      " 94% |####################################################################    |\r"
     ]
    },
    {
     "name": "stdout",
     "output_type": "stream",
     "text": [
      "................End Filling data for Anymuus ......................... \n",
      "\n",
      "\n",
      ".........947.......Start Filling data for dehcorttina ......................... \n",
      "\n",
      "\n"
     ]
    },
    {
     "name": "stderr",
     "output_type": "stream",
     "text": [
      " 94% |####################################################################    |\r"
     ]
    },
    {
     "name": "stdout",
     "output_type": "stream",
     "text": [
      "................End Filling data for dehcorttina ......................... \n",
      "\n",
      "\n",
      ".........948.......Start Filling data for MasterBootREC ......................... \n",
      "\n",
      "\n"
     ]
    },
    {
     "name": "stderr",
     "output_type": "stream",
     "text": [
      " 94% |####################################################################    |\r"
     ]
    },
    {
     "name": "stdout",
     "output_type": "stream",
     "text": [
      "................End Filling data for MasterBootREC ......................... \n",
      "\n",
      "\n",
      ".........949.......Start Filling data for drumgirl ......................... \n",
      "\n",
      "\n"
     ]
    },
    {
     "name": "stderr",
     "output_type": "stream",
     "text": [
      " 95% |####################################################################    |\r"
     ]
    },
    {
     "name": "stdout",
     "output_type": "stream",
     "text": [
      "................End Filling data for drumgirl ......................... \n",
      "\n",
      "\n",
      ".........950.......Start Filling data for Cosmicabuse ......................... \n",
      "\n",
      "\n"
     ]
    },
    {
     "name": "stderr",
     "output_type": "stream",
     "text": [
      " 95% |####################################################################    |\r"
     ]
    },
    {
     "name": "stdout",
     "output_type": "stream",
     "text": [
      "................End Filling data for Cosmicabuse ......................... \n",
      "\n",
      "\n",
      ".........951.......Start Filling data for Amokel ......................... \n",
      "\n",
      "\n"
     ]
    },
    {
     "name": "stderr",
     "output_type": "stream",
     "text": [
      " 95% |####################################################################    |\r"
     ]
    },
    {
     "name": "stdout",
     "output_type": "stream",
     "text": [
      "................End Filling data for Amokel ......................... \n",
      "\n",
      "\n",
      ".........952.......Start Filling data for blomsteri88 ......................... \n",
      "\n",
      "\n"
     ]
    },
    {
     "name": "stderr",
     "output_type": "stream",
     "text": [
      " 95% |####################################################################    |\r"
     ]
    },
    {
     "name": "stdout",
     "output_type": "stream",
     "text": [
      "................End Filling data for blomsteri88 ......................... \n",
      "\n",
      "\n",
      ".........953.......Start Filling data for 火車甩尾 ......................... \n",
      "\n",
      "\n"
     ]
    },
    {
     "name": "stderr",
     "output_type": "stream",
     "text": [
      " 95% |####################################################################    |\r"
     ]
    },
    {
     "name": "stdout",
     "output_type": "stream",
     "text": [
      "................End Filling data for 火車甩尾 ......................... \n",
      "\n",
      "\n",
      ".........954.......Start Filling data for nalleeee ......................... \n",
      "\n",
      "\n"
     ]
    },
    {
     "name": "stderr",
     "output_type": "stream",
     "text": [
      " 95% |####################################################################    |\r"
     ]
    },
    {
     "name": "stdout",
     "output_type": "stream",
     "text": [
      "................End Filling data for nalleeee ......................... \n",
      "\n",
      "\n",
      ".........955.......Start Filling data for Shikaru ......................... \n",
      "\n",
      "\n"
     ]
    },
    {
     "name": "stderr",
     "output_type": "stream",
     "text": [
      " 95% |####################################################################    |\r"
     ]
    },
    {
     "name": "stdout",
     "output_type": "stream",
     "text": [
      "................End Filling data for Shikaru ......................... \n",
      "\n",
      "\n",
      ".........956.......Start Filling data for Kratos62lc ......................... \n",
      "\n",
      "\n"
     ]
    },
    {
     "name": "stderr",
     "output_type": "stream",
     "text": [
      " 95% |####################################################################    |\r"
     ]
    },
    {
     "name": "stdout",
     "output_type": "stream",
     "text": [
      "................End Filling data for Kratos62lc ......................... \n",
      "\n",
      "\n",
      ".........957.......Start Filling data for Howard8480 ......................... \n",
      "\n",
      "\n"
     ]
    },
    {
     "name": "stderr",
     "output_type": "stream",
     "text": [
      " 95% |####################################################################    |\r"
     ]
    },
    {
     "name": "stdout",
     "output_type": "stream",
     "text": [
      "................End Filling data for Howard8480 ......................... \n",
      "\n",
      "\n",
      ".........958.......Start Filling data for XX_PSYCHOZZ_XX ......................... \n",
      "\n",
      "\n"
     ]
    },
    {
     "name": "stderr",
     "output_type": "stream",
     "text": [
      " 95% |#####################################################################   |\r"
     ]
    },
    {
     "name": "stdout",
     "output_type": "stream",
     "text": [
      "................End Filling data for XX_PSYCHOZZ_XX ......................... \n",
      "\n",
      "\n",
      ".........959.......Start Filling data for banhitv ......................... \n",
      "\n",
      "\n"
     ]
    },
    {
     "name": "stderr",
     "output_type": "stream",
     "text": [
      " 96% |#####################################################################   |\r"
     ]
    },
    {
     "name": "stdout",
     "output_type": "stream",
     "text": [
      "................End Filling data for banhitv ......................... \n",
      "\n",
      "\n",
      ".........960.......Start Filling data for PikePerch ......................... \n",
      "\n",
      "\n"
     ]
    },
    {
     "name": "stderr",
     "output_type": "stream",
     "text": [
      " 96% |#####################################################################   |\r"
     ]
    },
    {
     "name": "stdout",
     "output_type": "stream",
     "text": [
      "................End Filling data for PikePerch ......................... \n",
      "\n",
      "\n",
      ".........961.......Start Filling data for LuceLoveLace ......................... \n",
      "\n",
      "\n"
     ]
    },
    {
     "name": "stderr",
     "output_type": "stream",
     "text": [
      " 96% |#####################################################################   |\r"
     ]
    },
    {
     "name": "stdout",
     "output_type": "stream",
     "text": [
      "................End Filling data for LuceLoveLace ......................... \n",
      "\n",
      "\n",
      ".........962.......Start Filling data for SupeeR_3 ......................... \n",
      "\n",
      "\n"
     ]
    },
    {
     "name": "stderr",
     "output_type": "stream",
     "text": [
      " 96% |#####################################################################   |\r"
     ]
    },
    {
     "name": "stdout",
     "output_type": "stream",
     "text": [
      "................End Filling data for SupeeR_3 ......................... \n",
      "\n",
      "\n",
      ".........963.......Start Filling data for grandstrategygirl ......................... \n",
      "\n",
      "\n"
     ]
    },
    {
     "name": "stderr",
     "output_type": "stream",
     "text": [
      " 96% |#####################################################################   |\r"
     ]
    },
    {
     "name": "stdout",
     "output_type": "stream",
     "text": [
      "................End Filling data for grandstrategygirl ......................... \n",
      "\n",
      "\n",
      ".........964.......Start Filling data for angel123456 ......................... \n",
      "\n",
      "\n"
     ]
    },
    {
     "name": "stderr",
     "output_type": "stream",
     "text": [
      " 96% |#####################################################################   |\r"
     ]
    },
    {
     "name": "stdout",
     "output_type": "stream",
     "text": [
      "................End Filling data for angel123456 ......................... \n",
      "\n",
      "\n",
      ".........965.......Start Filling data for DarkMan_ ......................... \n",
      "\n",
      "\n"
     ]
    },
    {
     "name": "stderr",
     "output_type": "stream",
     "text": [
      " 96% |#####################################################################   |\r"
     ]
    },
    {
     "name": "stdout",
     "output_type": "stream",
     "text": [
      "................End Filling data for DarkMan_ ......................... \n",
      "\n",
      "\n",
      ".........966.......Start Filling data for juankristal ......................... \n",
      "\n",
      "\n"
     ]
    },
    {
     "name": "stderr",
     "output_type": "stream",
     "text": [
      " 96% |#####################################################################   |\r"
     ]
    },
    {
     "name": "stdout",
     "output_type": "stream",
     "text": [
      "................End Filling data for juankristal ......................... \n",
      "\n",
      "\n",
      ".........967.......Start Filling data for Zanscho ......................... \n",
      "\n",
      "\n"
     ]
    },
    {
     "name": "stderr",
     "output_type": "stream",
     "text": [
      " 96% |#####################################################################   |\r"
     ]
    },
    {
     "name": "stdout",
     "output_type": "stream",
     "text": [
      "................End Filling data for Zanscho ......................... \n",
      "\n",
      "\n",
      ".........968.......Start Filling data for Crosspig ......................... \n",
      "\n",
      "\n"
     ]
    },
    {
     "name": "stderr",
     "output_type": "stream",
     "text": [
      " 96% |#####################################################################   |\r"
     ]
    },
    {
     "name": "stdout",
     "output_type": "stream",
     "text": [
      "................End Filling data for Crosspig ......................... \n",
      "\n",
      "\n",
      ".........969.......Start Filling data for LittleCheese_ ......................... \n",
      "\n",
      "\n"
     ]
    },
    {
     "name": "stderr",
     "output_type": "stream",
     "text": [
      " 97% |#####################################################################   |\r"
     ]
    },
    {
     "name": "stdout",
     "output_type": "stream",
     "text": [
      "................End Filling data for LittleCheese_ ......................... \n",
      "\n",
      "\n",
      ".........970.......Start Filling data for i527 ......................... \n",
      "\n",
      "\n"
     ]
    },
    {
     "name": "stderr",
     "output_type": "stream",
     "text": [
      " 97% |#####################################################################   |\r"
     ]
    },
    {
     "name": "stdout",
     "output_type": "stream",
     "text": [
      "................End Filling data for i527 ......................... \n",
      "\n",
      "\n",
      ".........971.......Start Filling data for bcpolygon ......................... \n",
      "\n",
      "\n"
     ]
    },
    {
     "name": "stderr",
     "output_type": "stream",
     "text": [
      " 97% |#####################################################################   |\r"
     ]
    },
    {
     "name": "stdout",
     "output_type": "stream",
     "text": [
      "................End Filling data for bcpolygon ......................... \n",
      "\n",
      "\n",
      ".........972.......Start Filling data for Skrilexe ......................... \n",
      "\n",
      "\n"
     ]
    },
    {
     "name": "stderr",
     "output_type": "stream",
     "text": [
      " 97% |######################################################################  |\r"
     ]
    },
    {
     "name": "stdout",
     "output_type": "stream",
     "text": [
      "................End Filling data for Skrilexe ......................... \n",
      "\n",
      "\n",
      ".........973.......Start Filling data for thedevourerofwrlds ......................... \n",
      "\n",
      "\n"
     ]
    },
    {
     "name": "stderr",
     "output_type": "stream",
     "text": [
      " 97% |######################################################################  |\r"
     ]
    },
    {
     "name": "stdout",
     "output_type": "stream",
     "text": [
      "................End Filling data for thedevourerofwrlds ......................... \n",
      "\n",
      "\n",
      ".........974.......Start Filling data for Zimmerson ......................... \n",
      "\n",
      "\n"
     ]
    },
    {
     "name": "stderr",
     "output_type": "stream",
     "text": [
      " 97% |######################################################################  |\r"
     ]
    },
    {
     "name": "stdout",
     "output_type": "stream",
     "text": [
      "................End Filling data for Zimmerson ......................... \n",
      "\n",
      "\n",
      ".........975.......Start Filling data for Kesilu ......................... \n",
      "\n",
      "\n"
     ]
    },
    {
     "name": "stderr",
     "output_type": "stream",
     "text": [
      " 97% |######################################################################  |\r"
     ]
    },
    {
     "name": "stdout",
     "output_type": "stream",
     "text": [
      "................End Filling data for Kesilu ......................... \n",
      "\n",
      "\n",
      ".........976.......Start Filling data for ChronicSquid ......................... \n",
      "\n",
      "\n"
     ]
    },
    {
     "name": "stderr",
     "output_type": "stream",
     "text": [
      " 97% |######################################################################  |\r"
     ]
    },
    {
     "name": "stdout",
     "output_type": "stream",
     "text": [
      "................End Filling data for ChronicSquid ......................... \n",
      "\n",
      "\n",
      ".........977.......Start Filling data for Finessia ......................... \n",
      "\n",
      "\n"
     ]
    },
    {
     "name": "stderr",
     "output_type": "stream",
     "text": [
      " 97% |######################################################################  |\r"
     ]
    },
    {
     "name": "stdout",
     "output_type": "stream",
     "text": [
      "................End Filling data for Finessia ......................... \n",
      "\n",
      "\n",
      ".........978.......Start Filling data for Sideways440 ......................... \n",
      "\n",
      "\n"
     ]
    },
    {
     "name": "stderr",
     "output_type": "stream",
     "text": [
      " 97% |######################################################################  |\r"
     ]
    },
    {
     "name": "stdout",
     "output_type": "stream",
     "text": [
      "................End Filling data for Sideways440 ......................... \n",
      "\n",
      "\n",
      ".........979.......Start Filling data for Evz1 ......................... \n",
      "\n",
      "\n"
     ]
    },
    {
     "name": "stderr",
     "output_type": "stream",
     "text": [
      " 98% |######################################################################  |\r"
     ]
    },
    {
     "name": "stdout",
     "output_type": "stream",
     "text": [
      "................End Filling data for Evz1 ......................... \n",
      "\n",
      "\n",
      ".........980.......Start Filling data for ulas_zi ......................... \n",
      "\n",
      "\n"
     ]
    },
    {
     "name": "stderr",
     "output_type": "stream",
     "text": [
      " 98% |######################################################################  |\r"
     ]
    },
    {
     "name": "stdout",
     "output_type": "stream",
     "text": [
      "................End Filling data for ulas_zi ......................... \n",
      "\n",
      "\n",
      ".........981.......Start Filling data for Rosella_500 ......................... \n",
      "\n",
      "\n"
     ]
    },
    {
     "name": "stderr",
     "output_type": "stream",
     "text": [
      " 98% |######################################################################  |\r"
     ]
    },
    {
     "name": "stdout",
     "output_type": "stream",
     "text": [
      "................End Filling data for Rosella_500 ......................... \n",
      "\n",
      "\n",
      ".........982.......Start Filling data for zizidor666 ......................... \n",
      "\n",
      "\n"
     ]
    },
    {
     "name": "stderr",
     "output_type": "stream",
     "text": [
      " 98% |######################################################################  |\r"
     ]
    },
    {
     "name": "stdout",
     "output_type": "stream",
     "text": [
      "................End Filling data for zizidor666 ......................... \n",
      "\n",
      "\n",
      ".........983.......Start Filling data for CoverH ......................... \n",
      "\n",
      "\n"
     ]
    },
    {
     "name": "stderr",
     "output_type": "stream",
     "text": [
      " 98% |######################################################################  |\r"
     ]
    },
    {
     "name": "stdout",
     "output_type": "stream",
     "text": [
      "................End Filling data for CoverH ......................... \n",
      "\n",
      "\n",
      ".........984.......Start Filling data for buntaoo ......................... \n",
      "\n",
      "\n"
     ]
    },
    {
     "name": "stderr",
     "output_type": "stream",
     "text": [
      " 98% |######################################################################  |\r"
     ]
    },
    {
     "name": "stdout",
     "output_type": "stream",
     "text": [
      "................End Filling data for buntaoo ......................... \n",
      "\n",
      "\n",
      ".........985.......Start Filling data for Turpakellari ......................... \n",
      "\n",
      "\n"
     ]
    },
    {
     "name": "stderr",
     "output_type": "stream",
     "text": [
      " 98% |######################################################################  |\r"
     ]
    },
    {
     "name": "stdout",
     "output_type": "stream",
     "text": [
      "................End Filling data for Turpakellari ......................... \n",
      "\n",
      "\n",
      ".........986.......Start Filling data for frogyy ......................... \n",
      "\n",
      "\n"
     ]
    },
    {
     "name": "stderr",
     "output_type": "stream",
     "text": [
      " 98% |####################################################################### |\r"
     ]
    },
    {
     "name": "stdout",
     "output_type": "stream",
     "text": [
      "................End Filling data for frogyy ......................... \n",
      "\n",
      "\n",
      ".........987.......Start Filling data for uptrennd ......................... \n",
      "\n",
      "\n"
     ]
    },
    {
     "name": "stderr",
     "output_type": "stream",
     "text": [
      " 98% |####################################################################### |\r"
     ]
    },
    {
     "name": "stdout",
     "output_type": "stream",
     "text": [
      "................End Filling data for uptrennd ......................... \n",
      "\n",
      "\n",
      ".........988.......Start Filling data for Waxilol ......................... \n",
      "\n",
      "\n"
     ]
    },
    {
     "name": "stderr",
     "output_type": "stream",
     "text": [
      " 98% |####################################################################### |\r"
     ]
    },
    {
     "name": "stdout",
     "output_type": "stream",
     "text": [
      "................End Filling data for Waxilol ......................... \n",
      "\n",
      "\n",
      ".........989.......Start Filling data for HANIIHAA ......................... \n",
      "\n",
      "\n"
     ]
    },
    {
     "name": "stderr",
     "output_type": "stream",
     "text": [
      " 99% |####################################################################### |\r"
     ]
    },
    {
     "name": "stdout",
     "output_type": "stream",
     "text": [
      "................End Filling data for HANIIHAA ......................... \n",
      "\n",
      "\n",
      ".........990.......Start Filling data for caitytyphoon ......................... \n",
      "\n",
      "\n"
     ]
    },
    {
     "name": "stderr",
     "output_type": "stream",
     "text": [
      " 99% |####################################################################### |\r"
     ]
    },
    {
     "name": "stdout",
     "output_type": "stream",
     "text": [
      "................End Filling data for caitytyphoon ......................... \n",
      "\n",
      "\n",
      ".........991.......Start Filling data for RainbowSprinklez ......................... \n",
      "\n",
      "\n"
     ]
    },
    {
     "name": "stderr",
     "output_type": "stream",
     "text": [
      " 99% |####################################################################### |\r"
     ]
    },
    {
     "name": "stdout",
     "output_type": "stream",
     "text": [
      "................End Filling data for RainbowSprinklez ......................... \n",
      "\n",
      "\n",
      ".........992.......Start Filling data for 這批很淳 ......................... \n",
      "\n",
      "\n"
     ]
    },
    {
     "name": "stderr",
     "output_type": "stream",
     "text": [
      " 99% |####################################################################### |\r"
     ]
    },
    {
     "name": "stdout",
     "output_type": "stream",
     "text": [
      "................End Filling data for 這批很淳 ......................... \n",
      "\n",
      "\n",
      ".........993.......Start Filling data for EinfachCake ......................... \n",
      "\n",
      "\n"
     ]
    },
    {
     "name": "stderr",
     "output_type": "stream",
     "text": [
      " 99% |####################################################################### |\r"
     ]
    },
    {
     "name": "stdout",
     "output_type": "stream",
     "text": [
      "................End Filling data for EinfachCake ......................... \n",
      "\n",
      "\n",
      ".........994.......Start Filling data for bry_ ......................... \n",
      "\n",
      "\n"
     ]
    },
    {
     "name": "stderr",
     "output_type": "stream",
     "text": [
      " 99% |####################################################################### |\r"
     ]
    },
    {
     "name": "stdout",
     "output_type": "stream",
     "text": [
      "................End Filling data for bry_ ......................... \n",
      "\n",
      "\n",
      ".........995.......Start Filling data for zdhdtw ......................... \n",
      "\n",
      "\n"
     ]
    },
    {
     "name": "stderr",
     "output_type": "stream",
     "text": [
      " 99% |####################################################################### |\r"
     ]
    },
    {
     "name": "stdout",
     "output_type": "stream",
     "text": [
      "................End Filling data for zdhdtw ......................... \n",
      "\n",
      "\n",
      ".........996.......Start Filling data for AlfaceVerdeTV ......................... \n",
      "\n",
      "\n"
     ]
    },
    {
     "name": "stderr",
     "output_type": "stream",
     "text": [
      " 99% |####################################################################### |\r"
     ]
    },
    {
     "name": "stdout",
     "output_type": "stream",
     "text": [
      "................End Filling data for AlfaceVerdeTV ......................... \n",
      "\n",
      "\n",
      ".........997.......Start Filling data for WickedBacon_ ......................... \n",
      "\n",
      "\n"
     ]
    },
    {
     "name": "stderr",
     "output_type": "stream",
     "text": [
      " 99% |####################################################################### |\r"
     ]
    },
    {
     "name": "stdout",
     "output_type": "stream",
     "text": [
      "................End Filling data for WickedBacon_ ......................... \n",
      "\n",
      "\n",
      ".........998.......Start Filling data for Whoopi3 ......................... \n",
      "\n",
      "\n"
     ]
    },
    {
     "name": "stderr",
     "output_type": "stream",
     "text": [
      " 99% |####################################################################### |\r"
     ]
    },
    {
     "name": "stdout",
     "output_type": "stream",
     "text": [
      "................End Filling data for Whoopi3 ......................... \n",
      "\n",
      "\n",
      ".........999.......Start Filling data for FortniteFR_TV ......................... \n",
      "\n",
      "\n",
      "................End Filling data for FortniteFR_TV ......................... \n",
      "\n",
      "\n"
     ]
    },
    {
     "name": "stderr",
     "output_type": "stream",
     "text": [
      "/usr/local/anaconda3/lib/python3.7/site-packages/ipykernel_launcher.py:3: FutureWarning: `item` has been deprecated and will be removed in a future version\n",
      "  This is separate from the ipykernel package so we can avoid doing imports until\n",
      "/usr/local/anaconda3/lib/python3.7/site-packages/ipykernel_launcher.py:5: FutureWarning: `item` has been deprecated and will be removed in a future version\n",
      "  \"\"\"\n"
     ]
    },
    {
     "data": {
      "text/html": [
       "<div>\n",
       "<style scoped>\n",
       "    .dataframe tbody tr th:only-of-type {\n",
       "        vertical-align: middle;\n",
       "    }\n",
       "\n",
       "    .dataframe tbody tr th {\n",
       "        vertical-align: top;\n",
       "    }\n",
       "\n",
       "    .dataframe thead th {\n",
       "        text-align: right;\n",
       "    }\n",
       "</style>\n",
       "<table border=\"1\" class=\"dataframe\">\n",
       "  <thead>\n",
       "    <tr style=\"text-align: right;\">\n",
       "      <th></th>\n",
       "      <th>_id</th>\n",
       "      <th>login</th>\n",
       "      <th>display_name</th>\n",
       "      <th>view_count</th>\n",
       "      <th>email</th>\n",
       "      <th>source_url</th>\n",
       "      <th>esports_team_ yes_or_no</th>\n",
       "      <th>number_of_videos</th>\n",
       "      <th>fb_link</th>\n",
       "      <th>youtube_link</th>\n",
       "      <th>ig_link</th>\n",
       "      <th>twitter_link</th>\n",
       "    </tr>\n",
       "  </thead>\n",
       "  <tbody>\n",
       "    <tr>\n",
       "      <td>0</td>\n",
       "      <td>114911401.0</td>\n",
       "      <td>demonred123</td>\n",
       "      <td>demonred123</td>\n",
       "      <td>10295.0</td>\n",
       "      <td></td>\n",
       "      <td></td>\n",
       "      <td></td>\n",
       "      <td>9</td>\n",
       "      <td></td>\n",
       "      <td></td>\n",
       "      <td></td>\n",
       "      <td>https://twitter.com/Kodmiglos</td>\n",
       "    </tr>\n",
       "    <tr>\n",
       "      <td>1</td>\n",
       "      <td>138705202.0</td>\n",
       "      <td>kyoz3</td>\n",
       "      <td>kyoz3</td>\n",
       "      <td>10295.0</td>\n",
       "      <td>dajoubf33@gmail.com</td>\n",
       "      <td>https://twitter.com/dajoubf33</td>\n",
       "      <td></td>\n",
       "      <td></td>\n",
       "      <td></td>\n",
       "      <td></td>\n",
       "      <td></td>\n",
       "      <td>https://twitter.com/dajoubf33</td>\n",
       "    </tr>\n",
       "    <tr>\n",
       "      <td>2</td>\n",
       "      <td>194202821.0</td>\n",
       "      <td>anna_dit</td>\n",
       "      <td>Anna_DIT</td>\n",
       "      <td>10295.0</td>\n",
       "      <td>anna.stelmax@bk.ru</td>\n",
       "      <td>https://www.twitch.tv/Anna_DIT</td>\n",
       "      <td></td>\n",
       "      <td>6</td>\n",
       "      <td></td>\n",
       "      <td></td>\n",
       "      <td></td>\n",
       "      <td></td>\n",
       "    </tr>\n",
       "    <tr>\n",
       "      <td>3</td>\n",
       "      <td>58247597.0</td>\n",
       "      <td>megakitty</td>\n",
       "      <td>MegaKitty</td>\n",
       "      <td>10295.0</td>\n",
       "      <td>megakittytwitch@gmail.com</td>\n",
       "      <td>https://www.facebook.com/pg/megakittytwitch/ab...</td>\n",
       "      <td></td>\n",
       "      <td>44</td>\n",
       "      <td></td>\n",
       "      <td></td>\n",
       "      <td></td>\n",
       "      <td></td>\n",
       "    </tr>\n",
       "    <tr>\n",
       "      <td>4</td>\n",
       "      <td>63276646.0</td>\n",
       "      <td>eiskeksmann</td>\n",
       "      <td>Eiskeksmann</td>\n",
       "      <td>10295.0</td>\n",
       "      <td></td>\n",
       "      <td></td>\n",
       "      <td>yes</td>\n",
       "      <td>1</td>\n",
       "      <td></td>\n",
       "      <td></td>\n",
       "      <td></td>\n",
       "      <td></td>\n",
       "    </tr>\n",
       "    <tr>\n",
       "      <td>5</td>\n",
       "      <td>99356327.0</td>\n",
       "      <td>sergthedark</td>\n",
       "      <td>SergTheDark</td>\n",
       "      <td>10295.0</td>\n",
       "      <td></td>\n",
       "      <td>https://www.youtube.com/channel/UCEXcOA0XKOnCL...</td>\n",
       "      <td></td>\n",
       "      <td>1</td>\n",
       "      <td></td>\n",
       "      <td>https://www.youtube.com/c/SergTheDark/about</td>\n",
       "      <td></td>\n",
       "      <td></td>\n",
       "    </tr>\n",
       "    <tr>\n",
       "      <td>6</td>\n",
       "      <td>185698131.0</td>\n",
       "      <td>legendmatrixz</td>\n",
       "      <td>legendmatrixz</td>\n",
       "      <td>10294.0</td>\n",
       "      <td></td>\n",
       "      <td></td>\n",
       "      <td></td>\n",
       "      <td>3</td>\n",
       "      <td></td>\n",
       "      <td>https://www.youtube.com/channel/UCt6Z9Xp023qS_...</td>\n",
       "      <td>https://www.instagram.com/legendmatrixz.tv/</td>\n",
       "      <td></td>\n",
       "    </tr>\n",
       "    <tr>\n",
       "      <td>7</td>\n",
       "      <td>42450073.0</td>\n",
       "      <td>sugarsh0t</td>\n",
       "      <td>sugarsh0t</td>\n",
       "      <td>10294.0</td>\n",
       "      <td></td>\n",
       "      <td></td>\n",
       "      <td></td>\n",
       "      <td>3</td>\n",
       "      <td></td>\n",
       "      <td></td>\n",
       "      <td></td>\n",
       "      <td></td>\n",
       "    </tr>\n",
       "    <tr>\n",
       "      <td>8</td>\n",
       "      <td>464680474.0</td>\n",
       "      <td>h0stmedicin</td>\n",
       "      <td>h0stmedicin</td>\n",
       "      <td>10294.0</td>\n",
       "      <td></td>\n",
       "      <td></td>\n",
       "      <td></td>\n",
       "      <td>25</td>\n",
       "      <td></td>\n",
       "      <td></td>\n",
       "      <td></td>\n",
       "      <td></td>\n",
       "    </tr>\n",
       "    <tr>\n",
       "      <td>9</td>\n",
       "      <td>82960629.0</td>\n",
       "      <td>lamaaatv</td>\n",
       "      <td>lamaaatv</td>\n",
       "      <td>10294.0</td>\n",
       "      <td></td>\n",
       "      <td></td>\n",
       "      <td>yes</td>\n",
       "      <td>14</td>\n",
       "      <td></td>\n",
       "      <td>https://www.youtube.com/channel/UCLn35Mx4oA63n...</td>\n",
       "      <td></td>\n",
       "      <td>https://twitter.com/lamaaatv</td>\n",
       "    </tr>\n",
       "    <tr>\n",
       "      <td>10</td>\n",
       "      <td>159247870.0</td>\n",
       "      <td>bridge39</td>\n",
       "      <td>bridge39</td>\n",
       "      <td>10293.0</td>\n",
       "      <td></td>\n",
       "      <td></td>\n",
       "      <td></td>\n",
       "      <td>22</td>\n",
       "      <td></td>\n",
       "      <td></td>\n",
       "      <td></td>\n",
       "      <td></td>\n",
       "    </tr>\n",
       "    <tr>\n",
       "      <td>11</td>\n",
       "      <td>119575871.0</td>\n",
       "      <td>d_r_bender</td>\n",
       "      <td>d_r_bender</td>\n",
       "      <td>10292.0</td>\n",
       "      <td></td>\n",
       "      <td></td>\n",
       "      <td></td>\n",
       "      <td></td>\n",
       "      <td></td>\n",
       "      <td></td>\n",
       "      <td></td>\n",
       "      <td>https://twitter.com/d_r_bender</td>\n",
       "    </tr>\n",
       "    <tr>\n",
       "      <td>12</td>\n",
       "      <td>198846075.0</td>\n",
       "      <td>cartoonbanshee</td>\n",
       "      <td>CartoonBanshee</td>\n",
       "      <td>10292.0</td>\n",
       "      <td></td>\n",
       "      <td>https://www.youtube.com/channel/UCCF9umbOCgYub...</td>\n",
       "      <td></td>\n",
       "      <td>39</td>\n",
       "      <td></td>\n",
       "      <td>https://www.youtube.com/channel/UCCF9umbOCgYub...</td>\n",
       "      <td>https://www.instagram.com/cartoon_banshee/</td>\n",
       "      <td></td>\n",
       "    </tr>\n",
       "    <tr>\n",
       "      <td>13</td>\n",
       "      <td>31900779.0</td>\n",
       "      <td>furbiekiller</td>\n",
       "      <td>Furbiekiller</td>\n",
       "      <td>10292.0</td>\n",
       "      <td>furbiekillerbiz@gmail.com</td>\n",
       "      <td>https://www.twitter.com/furbiekiller</td>\n",
       "      <td></td>\n",
       "      <td>24</td>\n",
       "      <td></td>\n",
       "      <td></td>\n",
       "      <td></td>\n",
       "      <td>https://www.twitter.com/furbiekiller</td>\n",
       "    </tr>\n",
       "    <tr>\n",
       "      <td>14</td>\n",
       "      <td>44342335.0</td>\n",
       "      <td>ierodeer</td>\n",
       "      <td>エルネ</td>\n",
       "      <td>10292.0</td>\n",
       "      <td></td>\n",
       "      <td></td>\n",
       "      <td></td>\n",
       "      <td></td>\n",
       "      <td></td>\n",
       "      <td></td>\n",
       "      <td></td>\n",
       "      <td></td>\n",
       "    </tr>\n",
       "    <tr>\n",
       "      <td>15</td>\n",
       "      <td>470887037.0</td>\n",
       "      <td>cbarsotti</td>\n",
       "      <td>cbarsotti</td>\n",
       "      <td>10292.0</td>\n",
       "      <td></td>\n",
       "      <td></td>\n",
       "      <td></td>\n",
       "      <td></td>\n",
       "      <td></td>\n",
       "      <td></td>\n",
       "      <td></td>\n",
       "      <td></td>\n",
       "    </tr>\n",
       "    <tr>\n",
       "      <td>16</td>\n",
       "      <td>113215538.0</td>\n",
       "      <td>deethirty</td>\n",
       "      <td>deethirty</td>\n",
       "      <td>10291.0</td>\n",
       "      <td></td>\n",
       "      <td></td>\n",
       "      <td></td>\n",
       "      <td>2</td>\n",
       "      <td></td>\n",
       "      <td></td>\n",
       "      <td></td>\n",
       "      <td>https://twitter.com/deethirtyyy</td>\n",
       "    </tr>\n",
       "    <tr>\n",
       "      <td>17</td>\n",
       "      <td>192016328.0</td>\n",
       "      <td>lumiip0m</td>\n",
       "      <td>lumiip0m</td>\n",
       "      <td>10291.0</td>\n",
       "      <td></td>\n",
       "      <td></td>\n",
       "      <td></td>\n",
       "      <td>8</td>\n",
       "      <td></td>\n",
       "      <td></td>\n",
       "      <td>https://www.instagram.com/lumiip0m/</td>\n",
       "      <td>https://twitter.com/Lumiip0m</td>\n",
       "    </tr>\n",
       "    <tr>\n",
       "      <td>18</td>\n",
       "      <td>19437220.0</td>\n",
       "      <td>mutalicious</td>\n",
       "      <td>Mutalicious</td>\n",
       "      <td>10291.0</td>\n",
       "      <td></td>\n",
       "      <td></td>\n",
       "      <td></td>\n",
       "      <td>9</td>\n",
       "      <td></td>\n",
       "      <td></td>\n",
       "      <td></td>\n",
       "      <td></td>\n",
       "    </tr>\n",
       "    <tr>\n",
       "      <td>19</td>\n",
       "      <td>405891664.0</td>\n",
       "      <td>jvvv35</td>\n",
       "      <td>jvvv35</td>\n",
       "      <td>10291.0</td>\n",
       "      <td></td>\n",
       "      <td></td>\n",
       "      <td></td>\n",
       "      <td>2</td>\n",
       "      <td></td>\n",
       "      <td></td>\n",
       "      <td></td>\n",
       "      <td></td>\n",
       "    </tr>\n",
       "    <tr>\n",
       "      <td>20</td>\n",
       "      <td>41691670.0</td>\n",
       "      <td>maximumeffort87</td>\n",
       "      <td>maximumeffort87</td>\n",
       "      <td>10291.0</td>\n",
       "      <td></td>\n",
       "      <td></td>\n",
       "      <td></td>\n",
       "      <td>8</td>\n",
       "      <td></td>\n",
       "      <td></td>\n",
       "      <td></td>\n",
       "      <td></td>\n",
       "    </tr>\n",
       "    <tr>\n",
       "      <td>21</td>\n",
       "      <td>83181355.0</td>\n",
       "      <td>gunslinger_media</td>\n",
       "      <td>gunslinger_media</td>\n",
       "      <td>10291.0</td>\n",
       "      <td>RileymckennaGSM@gmail.com</td>\n",
       "      <td>https://www.youtube.com/channel/UCDjs4JoXmMzva...</td>\n",
       "      <td></td>\n",
       "      <td>51</td>\n",
       "      <td></td>\n",
       "      <td></td>\n",
       "      <td></td>\n",
       "      <td></td>\n",
       "    </tr>\n",
       "    <tr>\n",
       "      <td>22</td>\n",
       "      <td>106736422.0</td>\n",
       "      <td>denmish</td>\n",
       "      <td>DenmisH</td>\n",
       "      <td>10290.0</td>\n",
       "      <td></td>\n",
       "      <td></td>\n",
       "      <td></td>\n",
       "      <td>3</td>\n",
       "      <td>https://www.facebook.com/pg/Denis-Mischenko/ab...</td>\n",
       "      <td>https://www.youtube.com/channel/UCRS7j_fGVpyRc...</td>\n",
       "      <td>https://www.instagram.com/den_mish/</td>\n",
       "      <td></td>\n",
       "    </tr>\n",
       "    <tr>\n",
       "      <td>23</td>\n",
       "      <td>107129471.0</td>\n",
       "      <td>aloiraa</td>\n",
       "      <td>aLoiraa</td>\n",
       "      <td>10290.0</td>\n",
       "      <td></td>\n",
       "      <td></td>\n",
       "      <td></td>\n",
       "      <td>1</td>\n",
       "      <td></td>\n",
       "      <td></td>\n",
       "      <td>https://www.instagram.com/andreia_rodrigues02/</td>\n",
       "      <td></td>\n",
       "    </tr>\n",
       "    <tr>\n",
       "      <td>24</td>\n",
       "      <td>230523195.0</td>\n",
       "      <td>belola9902</td>\n",
       "      <td>belola9902</td>\n",
       "      <td>10290.0</td>\n",
       "      <td></td>\n",
       "      <td></td>\n",
       "      <td></td>\n",
       "      <td>5</td>\n",
       "      <td></td>\n",
       "      <td></td>\n",
       "      <td>https://www.instagram.com/belola9902/?hl=it</td>\n",
       "      <td></td>\n",
       "    </tr>\n",
       "    <tr>\n",
       "      <td>25</td>\n",
       "      <td>64293022.0</td>\n",
       "      <td>jozobtw</td>\n",
       "      <td>JozoBTW</td>\n",
       "      <td>10290.0</td>\n",
       "      <td></td>\n",
       "      <td></td>\n",
       "      <td></td>\n",
       "      <td></td>\n",
       "      <td></td>\n",
       "      <td></td>\n",
       "      <td></td>\n",
       "      <td></td>\n",
       "    </tr>\n",
       "    <tr>\n",
       "      <td>26</td>\n",
       "      <td>68003652.0</td>\n",
       "      <td>pcsoul</td>\n",
       "      <td>pcsoul</td>\n",
       "      <td>10290.0</td>\n",
       "      <td></td>\n",
       "      <td></td>\n",
       "      <td></td>\n",
       "      <td></td>\n",
       "      <td>https://www.facebook.com/pg/PCSoul/about/?ref=...</td>\n",
       "      <td>https://www.youtube.com/channel/UC5reNZlDXzZ5X...</td>\n",
       "      <td></td>\n",
       "      <td>https://twitter.com/PCsoul_</td>\n",
       "    </tr>\n",
       "    <tr>\n",
       "      <td>27</td>\n",
       "      <td>123313854.0</td>\n",
       "      <td>vipmelo</td>\n",
       "      <td>vipmelo</td>\n",
       "      <td>10289.0</td>\n",
       "      <td></td>\n",
       "      <td></td>\n",
       "      <td></td>\n",
       "      <td>3</td>\n",
       "      <td>https://www.facebook.com/pg/www.facebook.com/a...</td>\n",
       "      <td></td>\n",
       "      <td>https://www.instagram.com/manolomelo93</td>\n",
       "      <td></td>\n",
       "    </tr>\n",
       "    <tr>\n",
       "      <td>28</td>\n",
       "      <td>38422177.0</td>\n",
       "      <td>piratekezmond</td>\n",
       "      <td>PirateKezmond</td>\n",
       "      <td>10289.0</td>\n",
       "      <td>piratekezmond@gmail.com</td>\n",
       "      <td>https://www.twitch.tv/PirateKezmond</td>\n",
       "      <td></td>\n",
       "      <td>23</td>\n",
       "      <td></td>\n",
       "      <td></td>\n",
       "      <td></td>\n",
       "      <td></td>\n",
       "    </tr>\n",
       "    <tr>\n",
       "      <td>29</td>\n",
       "      <td>99567425.0</td>\n",
       "      <td>up_dug</td>\n",
       "      <td>Up_Dug</td>\n",
       "      <td>10289.0</td>\n",
       "      <td></td>\n",
       "      <td></td>\n",
       "      <td></td>\n",
       "      <td></td>\n",
       "      <td></td>\n",
       "      <td></td>\n",
       "      <td></td>\n",
       "      <td>https://twitter.com/Twitch_Dug</td>\n",
       "    </tr>\n",
       "    <tr>\n",
       "      <td>30</td>\n",
       "      <td>130515180.0</td>\n",
       "      <td>okkeschx</td>\n",
       "      <td>oKKescHx</td>\n",
       "      <td>10288.0</td>\n",
       "      <td></td>\n",
       "      <td></td>\n",
       "      <td></td>\n",
       "      <td></td>\n",
       "      <td>https://www.facebook.com/pg/okkesch/about/?ref...</td>\n",
       "      <td>https://www.youtube.com/channel/UCAt1BvntyXCE8...</td>\n",
       "      <td>https://www.instagram.com/burakcanozbex/</td>\n",
       "      <td></td>\n",
       "    </tr>\n",
       "    <tr>\n",
       "      <td>31</td>\n",
       "      <td>27399946.0</td>\n",
       "      <td>georgeforemangrl</td>\n",
       "      <td>georgeforemangrl</td>\n",
       "      <td>10288.0</td>\n",
       "      <td></td>\n",
       "      <td></td>\n",
       "      <td></td>\n",
       "      <td>27</td>\n",
       "      <td></td>\n",
       "      <td>https://www.youtube.com/channel/UCAuVWGmLjy7no...</td>\n",
       "      <td>https://www.instagram.com/georgeforemangrl/</td>\n",
       "      <td>https://twitter.com/Takiah</td>\n",
       "    </tr>\n",
       "    <tr>\n",
       "      <td>32</td>\n",
       "      <td>97860478.0</td>\n",
       "      <td>filmkiste9219</td>\n",
       "      <td>Filmkiste9219</td>\n",
       "      <td>10288.0</td>\n",
       "      <td>Kistefilm@gmail.com</td>\n",
       "      <td>https://www.twitch.tv/filmkiste9219/</td>\n",
       "      <td></td>\n",
       "      <td>2</td>\n",
       "      <td></td>\n",
       "      <td></td>\n",
       "      <td></td>\n",
       "      <td></td>\n",
       "    </tr>\n",
       "    <tr>\n",
       "      <td>33</td>\n",
       "      <td>100248166.0</td>\n",
       "      <td>notjethro</td>\n",
       "      <td>notJethro</td>\n",
       "      <td>10286.0</td>\n",
       "      <td></td>\n",
       "      <td></td>\n",
       "      <td>YES</td>\n",
       "      <td>3</td>\n",
       "      <td></td>\n",
       "      <td></td>\n",
       "      <td></td>\n",
       "      <td>https://twitter.com/TTVgidden35</td>\n",
       "    </tr>\n",
       "    <tr>\n",
       "      <td>35</td>\n",
       "      <td>13240504.0</td>\n",
       "      <td>qaz0r</td>\n",
       "      <td>qaz0r</td>\n",
       "      <td>10286.0</td>\n",
       "      <td></td>\n",
       "      <td></td>\n",
       "      <td></td>\n",
       "      <td>35</td>\n",
       "      <td></td>\n",
       "      <td></td>\n",
       "      <td></td>\n",
       "      <td>http://twitter.com/qaz0r</td>\n",
       "    </tr>\n",
       "    <tr>\n",
       "      <td>36</td>\n",
       "      <td>157804131.0</td>\n",
       "      <td>verneyzafarano</td>\n",
       "      <td>verneyzafarano</td>\n",
       "      <td>10286.0</td>\n",
       "      <td></td>\n",
       "      <td></td>\n",
       "      <td></td>\n",
       "      <td></td>\n",
       "      <td></td>\n",
       "      <td></td>\n",
       "      <td></td>\n",
       "      <td></td>\n",
       "    </tr>\n",
       "    <tr>\n",
       "      <td>37</td>\n",
       "      <td>44162103.0</td>\n",
       "      <td>stevo280</td>\n",
       "      <td>Stevo280</td>\n",
       "      <td>10286.0</td>\n",
       "      <td></td>\n",
       "      <td></td>\n",
       "      <td></td>\n",
       "      <td>90</td>\n",
       "      <td></td>\n",
       "      <td></td>\n",
       "      <td></td>\n",
       "      <td></td>\n",
       "    </tr>\n",
       "    <tr>\n",
       "      <td>38</td>\n",
       "      <td>110788492.0</td>\n",
       "      <td>mizyna_de</td>\n",
       "      <td>Mizyna_DE</td>\n",
       "      <td>10285.0</td>\n",
       "      <td></td>\n",
       "      <td></td>\n",
       "      <td></td>\n",
       "      <td>13</td>\n",
       "      <td></td>\n",
       "      <td>https://www.youtube.com/channel/UCzJgipw4gh1pZ...</td>\n",
       "      <td></td>\n",
       "      <td></td>\n",
       "    </tr>\n",
       "    <tr>\n",
       "      <td>39</td>\n",
       "      <td>119646098.0</td>\n",
       "      <td>meya</td>\n",
       "      <td>meya</td>\n",
       "      <td>10285.0</td>\n",
       "      <td></td>\n",
       "      <td></td>\n",
       "      <td></td>\n",
       "      <td>16</td>\n",
       "      <td></td>\n",
       "      <td></td>\n",
       "      <td>https://www.instagram.com/meya_wtf/</td>\n",
       "      <td></td>\n",
       "    </tr>\n",
       "    <tr>\n",
       "      <td>40</td>\n",
       "      <td>141345458.0</td>\n",
       "      <td>xayder</td>\n",
       "      <td>xayder</td>\n",
       "      <td>10285.0</td>\n",
       "      <td></td>\n",
       "      <td></td>\n",
       "      <td></td>\n",
       "      <td>14</td>\n",
       "      <td></td>\n",
       "      <td></td>\n",
       "      <td></td>\n",
       "      <td></td>\n",
       "    </tr>\n",
       "  </tbody>\n",
       "</table>\n",
       "</div>"
      ],
      "text/plain": [
       "            _id             login      display_name  view_count  \\\n",
       "0   114911401.0       demonred123       demonred123     10295.0   \n",
       "1   138705202.0             kyoz3             kyoz3     10295.0   \n",
       "2   194202821.0          anna_dit          Anna_DIT     10295.0   \n",
       "3    58247597.0         megakitty         MegaKitty     10295.0   \n",
       "4    63276646.0       eiskeksmann       Eiskeksmann     10295.0   \n",
       "5    99356327.0       sergthedark       SergTheDark     10295.0   \n",
       "6   185698131.0     legendmatrixz     legendmatrixz     10294.0   \n",
       "7    42450073.0         sugarsh0t         sugarsh0t     10294.0   \n",
       "8   464680474.0       h0stmedicin       h0stmedicin     10294.0   \n",
       "9    82960629.0          lamaaatv          lamaaatv     10294.0   \n",
       "10  159247870.0          bridge39          bridge39     10293.0   \n",
       "11  119575871.0        d_r_bender        d_r_bender     10292.0   \n",
       "12  198846075.0    cartoonbanshee    CartoonBanshee     10292.0   \n",
       "13   31900779.0      furbiekiller      Furbiekiller     10292.0   \n",
       "14   44342335.0          ierodeer               エルネ     10292.0   \n",
       "15  470887037.0         cbarsotti         cbarsotti     10292.0   \n",
       "16  113215538.0         deethirty         deethirty     10291.0   \n",
       "17  192016328.0          lumiip0m          lumiip0m     10291.0   \n",
       "18   19437220.0       mutalicious       Mutalicious     10291.0   \n",
       "19  405891664.0            jvvv35            jvvv35     10291.0   \n",
       "20   41691670.0   maximumeffort87   maximumeffort87     10291.0   \n",
       "21   83181355.0  gunslinger_media  gunslinger_media     10291.0   \n",
       "22  106736422.0           denmish           DenmisH     10290.0   \n",
       "23  107129471.0           aloiraa           aLoiraa     10290.0   \n",
       "24  230523195.0        belola9902        belola9902     10290.0   \n",
       "25   64293022.0           jozobtw           JozoBTW     10290.0   \n",
       "26   68003652.0            pcsoul            pcsoul     10290.0   \n",
       "27  123313854.0           vipmelo           vipmelo     10289.0   \n",
       "28   38422177.0     piratekezmond     PirateKezmond     10289.0   \n",
       "29   99567425.0            up_dug            Up_Dug     10289.0   \n",
       "30  130515180.0          okkeschx          oKKescHx     10288.0   \n",
       "31   27399946.0  georgeforemangrl  georgeforemangrl     10288.0   \n",
       "32   97860478.0     filmkiste9219     Filmkiste9219     10288.0   \n",
       "33  100248166.0         notjethro         notJethro     10286.0   \n",
       "35   13240504.0             qaz0r             qaz0r     10286.0   \n",
       "36  157804131.0    verneyzafarano    verneyzafarano     10286.0   \n",
       "37   44162103.0          stevo280          Stevo280     10286.0   \n",
       "38  110788492.0         mizyna_de         Mizyna_DE     10285.0   \n",
       "39  119646098.0              meya              meya     10285.0   \n",
       "40  141345458.0            xayder            xayder     10285.0   \n",
       "\n",
       "                        email  \\\n",
       "0                               \n",
       "1         dajoubf33@gmail.com   \n",
       "2          anna.stelmax@bk.ru   \n",
       "3   megakittytwitch@gmail.com   \n",
       "4                               \n",
       "5                               \n",
       "6                               \n",
       "7                               \n",
       "8                               \n",
       "9                               \n",
       "10                              \n",
       "11                              \n",
       "12                              \n",
       "13  furbiekillerbiz@gmail.com   \n",
       "14                              \n",
       "15                              \n",
       "16                              \n",
       "17                              \n",
       "18                              \n",
       "19                              \n",
       "20                              \n",
       "21  RileymckennaGSM@gmail.com   \n",
       "22                              \n",
       "23                              \n",
       "24                              \n",
       "25                              \n",
       "26                              \n",
       "27                              \n",
       "28    piratekezmond@gmail.com   \n",
       "29                              \n",
       "30                              \n",
       "31                              \n",
       "32        Kistefilm@gmail.com   \n",
       "33                              \n",
       "35                              \n",
       "36                              \n",
       "37                              \n",
       "38                              \n",
       "39                              \n",
       "40                              \n",
       "\n",
       "                                           source_url esports_team_ yes_or_no  \\\n",
       "0                                                                               \n",
       "1                       https://twitter.com/dajoubf33                           \n",
       "2                      https://www.twitch.tv/Anna_DIT                           \n",
       "3   https://www.facebook.com/pg/megakittytwitch/ab...                           \n",
       "4                                                                         yes   \n",
       "5   https://www.youtube.com/channel/UCEXcOA0XKOnCL...                           \n",
       "6                                                                               \n",
       "7                                                                               \n",
       "8                                                                               \n",
       "9                                                                         yes   \n",
       "10                                                                              \n",
       "11                                                                              \n",
       "12  https://www.youtube.com/channel/UCCF9umbOCgYub...                           \n",
       "13               https://www.twitter.com/furbiekiller                           \n",
       "14                                                                              \n",
       "15                                                                              \n",
       "16                                                                              \n",
       "17                                                                              \n",
       "18                                                                              \n",
       "19                                                                              \n",
       "20                                                                              \n",
       "21  https://www.youtube.com/channel/UCDjs4JoXmMzva...                           \n",
       "22                                                                              \n",
       "23                                                                              \n",
       "24                                                                              \n",
       "25                                                                              \n",
       "26                                                                              \n",
       "27                                                                              \n",
       "28                https://www.twitch.tv/PirateKezmond                           \n",
       "29                                                                              \n",
       "30                                                                              \n",
       "31                                                                              \n",
       "32               https://www.twitch.tv/filmkiste9219/                           \n",
       "33                                                                        YES   \n",
       "35                                                                              \n",
       "36                                                                              \n",
       "37                                                                              \n",
       "38                                                                              \n",
       "39                                                                              \n",
       "40                                                                              \n",
       "\n",
       "   number_of_videos                                            fb_link  \\\n",
       "0                 9                                                      \n",
       "1                                                                        \n",
       "2                 6                                                      \n",
       "3                44                                                      \n",
       "4                 1                                                      \n",
       "5                 1                                                      \n",
       "6                 3                                                      \n",
       "7                 3                                                      \n",
       "8                25                                                      \n",
       "9                14                                                      \n",
       "10               22                                                      \n",
       "11                                                                       \n",
       "12               39                                                      \n",
       "13               24                                                      \n",
       "14                                                                       \n",
       "15                                                                       \n",
       "16                2                                                      \n",
       "17                8                                                      \n",
       "18                9                                                      \n",
       "19                2                                                      \n",
       "20                8                                                      \n",
       "21               51                                                      \n",
       "22                3  https://www.facebook.com/pg/Denis-Mischenko/ab...   \n",
       "23                1                                                      \n",
       "24                5                                                      \n",
       "25                                                                       \n",
       "26                   https://www.facebook.com/pg/PCSoul/about/?ref=...   \n",
       "27                3  https://www.facebook.com/pg/www.facebook.com/a...   \n",
       "28               23                                                      \n",
       "29                                                                       \n",
       "30                   https://www.facebook.com/pg/okkesch/about/?ref...   \n",
       "31               27                                                      \n",
       "32                2                                                      \n",
       "33                3                                                      \n",
       "35               35                                                      \n",
       "36                                                                       \n",
       "37               90                                                      \n",
       "38               13                                                      \n",
       "39               16                                                      \n",
       "40               14                                                      \n",
       "\n",
       "                                         youtube_link  \\\n",
       "0                                                       \n",
       "1                                                       \n",
       "2                                                       \n",
       "3                                                       \n",
       "4                                                       \n",
       "5         https://www.youtube.com/c/SergTheDark/about   \n",
       "6   https://www.youtube.com/channel/UCt6Z9Xp023qS_...   \n",
       "7                                                       \n",
       "8                                                       \n",
       "9   https://www.youtube.com/channel/UCLn35Mx4oA63n...   \n",
       "10                                                      \n",
       "11                                                      \n",
       "12  https://www.youtube.com/channel/UCCF9umbOCgYub...   \n",
       "13                                                      \n",
       "14                                                      \n",
       "15                                                      \n",
       "16                                                      \n",
       "17                                                      \n",
       "18                                                      \n",
       "19                                                      \n",
       "20                                                      \n",
       "21                                                      \n",
       "22  https://www.youtube.com/channel/UCRS7j_fGVpyRc...   \n",
       "23                                                      \n",
       "24                                                      \n",
       "25                                                      \n",
       "26  https://www.youtube.com/channel/UC5reNZlDXzZ5X...   \n",
       "27                                                      \n",
       "28                                                      \n",
       "29                                                      \n",
       "30  https://www.youtube.com/channel/UCAt1BvntyXCE8...   \n",
       "31  https://www.youtube.com/channel/UCAuVWGmLjy7no...   \n",
       "32                                                      \n",
       "33                                                      \n",
       "35                                                      \n",
       "36                                                      \n",
       "37                                                      \n",
       "38  https://www.youtube.com/channel/UCzJgipw4gh1pZ...   \n",
       "39                                                      \n",
       "40                                                      \n",
       "\n",
       "                                           ig_link  \\\n",
       "0                                                    \n",
       "1                                                    \n",
       "2                                                    \n",
       "3                                                    \n",
       "4                                                    \n",
       "5                                                    \n",
       "6      https://www.instagram.com/legendmatrixz.tv/   \n",
       "7                                                    \n",
       "8                                                    \n",
       "9                                                    \n",
       "10                                                   \n",
       "11                                                   \n",
       "12      https://www.instagram.com/cartoon_banshee/   \n",
       "13                                                   \n",
       "14                                                   \n",
       "15                                                   \n",
       "16                                                   \n",
       "17             https://www.instagram.com/lumiip0m/   \n",
       "18                                                   \n",
       "19                                                   \n",
       "20                                                   \n",
       "21                                                   \n",
       "22             https://www.instagram.com/den_mish/   \n",
       "23  https://www.instagram.com/andreia_rodrigues02/   \n",
       "24     https://www.instagram.com/belola9902/?hl=it   \n",
       "25                                                   \n",
       "26                                                   \n",
       "27          https://www.instagram.com/manolomelo93   \n",
       "28                                                   \n",
       "29                                                   \n",
       "30        https://www.instagram.com/burakcanozbex/   \n",
       "31     https://www.instagram.com/georgeforemangrl/   \n",
       "32                                                   \n",
       "33                                                   \n",
       "35                                                   \n",
       "36                                                   \n",
       "37                                                   \n",
       "38                                                   \n",
       "39             https://www.instagram.com/meya_wtf/   \n",
       "40                                                   \n",
       "\n",
       "                            twitter_link  \n",
       "0          https://twitter.com/Kodmiglos  \n",
       "1          https://twitter.com/dajoubf33  \n",
       "2                                         \n",
       "3                                         \n",
       "4                                         \n",
       "5                                         \n",
       "6                                         \n",
       "7                                         \n",
       "8                                         \n",
       "9           https://twitter.com/lamaaatv  \n",
       "10                                        \n",
       "11        https://twitter.com/d_r_bender  \n",
       "12                                        \n",
       "13  https://www.twitter.com/furbiekiller  \n",
       "14                                        \n",
       "15                                        \n",
       "16       https://twitter.com/deethirtyyy  \n",
       "17          https://twitter.com/Lumiip0m  \n",
       "18                                        \n",
       "19                                        \n",
       "20                                        \n",
       "21                                        \n",
       "22                                        \n",
       "23                                        \n",
       "24                                        \n",
       "25                                        \n",
       "26           https://twitter.com/PCsoul_  \n",
       "27                                        \n",
       "28                                        \n",
       "29        https://twitter.com/Twitch_Dug  \n",
       "30                                        \n",
       "31            https://twitter.com/Takiah  \n",
       "32                                        \n",
       "33       https://twitter.com/TTVgidden35  \n",
       "35              http://twitter.com/qaz0r  \n",
       "36                                        \n",
       "37                                        \n",
       "38                                        \n",
       "39                                        \n",
       "40                                        "
      ]
     },
     "execution_count": 706,
     "metadata": {},
     "output_type": "execute_result"
    }
   ],
   "source": [
    "def get_social_links(df):\n",
    "    pbar = ProgressBar().start()\n",
    "    for i in range(770, len(df)):\n",
    "        total = len(df)\n",
    "        total_steps = total\n",
    "        pbar.update((i/total)*100)  # current step/total steps * 100\n",
    "        pbar.finish()\n",
    "        name = df.iloc[i:i+1,]['display_name'].item()\n",
    "        if not df.loc[df['display_name'] == name, 'email'].item():\n",
    "            print(f\".........{i}.......Start Filling data for {name} ......................... \\n\\n\")\n",
    "            links, email = get_links_from_twitch(name)\n",
    "            source = df.loc[df['display_name'] == name, 'source_url'].item()\n",
    "            tw_source = ''\n",
    "            fb_source = ''\n",
    "            for link in links:\n",
    "                if email:\n",
    "                    source = f'https://www.twitch.tv/{name}'\n",
    "                if 'twitter.com' in link:\n",
    "                    df.loc[df['display_name'] == name, 'twitter_link'] = link\n",
    "                    tw_em = get_twitter_email(link)\n",
    "                    email = tw_em if tw_em else email\n",
    "                    tw_source = link if tw_em else source\n",
    "                if 'instagram.com' in link:\n",
    "                    df.loc[df['display_name'] == name, 'ig_link'] = link\n",
    "                if 'facebook.com' in link:\n",
    "                    username = link.split('/')[-2]\n",
    "                    link = f'https://www.facebook.com/pg/{username}/about/?ref=page_internal'\n",
    "                    df.loc[df['display_name'] == name, 'fb_link'] = link\n",
    "                    fb_em = get_facebook_email(link) if not email else email\n",
    "                    email = fb_em if fb_em else email\n",
    "                    fb_source = link if fb_em else ''\n",
    "                if 'youtube.com' in link:\n",
    "                    df.loc[df['display_name'] == name, 'youtube_link'] = link + '/about'\n",
    "                df.loc[df['display_name'] == name, 'email'] = email\n",
    "                df.loc[df['display_name'] == name, 'source_url'] = tw_source or fb_source or source\n",
    "            if links:\n",
    "                df.loc[df['display_name'] == name, 'number_of_videos'] = get_twitch_videos(name)\n",
    "            print(f\"................End Filling data for {name} ......................... \\n\\n\")\n",
    "    df = remove_uneccessary_links(df)\n",
    "    return df\n",
    "df = get_social_links(df)\n",
    "df.head(40)"
   ]
  },
  {
   "cell_type": "code",
   "execution_count": 714,
   "metadata": {},
   "outputs": [],
   "source": [
    "df = df.drop(['view_count', 'twitter_link', 'fb_link'], axis=1)\n",
    "df.to_excel(\"streamer_profiles_page_56_trial.xlsx\", sheet_name=\"streamer_profiles_page_56_trial\", engine='xlsxwriter')"
   ]
  },
  {
   "cell_type": "code",
   "execution_count": 715,
   "metadata": {},
   "outputs": [],
   "source": [
    "df.to_excel(\"streamer_profiles_page_56_trial.xlsx\", sheet_name=\"streamer_profiles_page_56_trial\", engine='xlsxwriter')"
   ]
  },
  {
   "cell_type": "code",
   "execution_count": 699,
   "metadata": {
    "collapsed": true
   },
   "outputs": [
    {
     "name": "stdout",
     "output_type": "stream",
     "text": [
      "Collecting progressbar\n",
      "  Downloading https://files.pythonhosted.org/packages/a3/a6/b8e451f6cff1c99b4747a2f7235aa904d2d49e8e1464e0b798272aa84358/progressbar-2.5.tar.gz\n",
      "Building wheels for collected packages: progressbar\n",
      "  Building wheel for progressbar (setup.py) ... \u001b[?25ldone\n",
      "\u001b[?25h  Created wheel for progressbar: filename=progressbar-2.5-cp37-none-any.whl size=12073 sha256=cf3b4faa9cd24471df591aadc7d97334294d4e1d557ee659105a738dad29110c\n",
      "  Stored in directory: /Users/mac/Library/Caches/pip/wheels/c0/e9/6b/ea01090205e285175842339aa3b491adeb4015206cda272ff0\n",
      "Successfully built progressbar\n",
      "Installing collected packages: progressbar\n",
      "Successfully installed progressbar-2.5\n"
     ]
    }
   ],
   "source": [
    "!pip install progressbar"
   ]
  },
  {
   "cell_type": "code",
   "execution_count": 659,
   "metadata": {},
   "outputs": [],
   "source": [
    "df_ = df.copy()"
   ]
  },
  {
   "cell_type": "code",
   "execution_count": 673,
   "metadata": {},
   "outputs": [
    {
     "name": "stderr",
     "output_type": "stream",
     "text": [
      "/usr/local/anaconda3/lib/python3.7/site-packages/ipykernel_launcher.py:3: FutureWarning: `item` has been deprecated and will be removed in a future version\n",
      "  This is separate from the ipykernel package so we can avoid doing imports until\n",
      "/usr/local/anaconda3/lib/python3.7/site-packages/ipykernel_launcher.py:5: FutureWarning: `item` has been deprecated and will be removed in a future version\n",
      "  \"\"\"\n"
     ]
    },
    {
     "data": {
      "text/html": [
       "<div>\n",
       "<style scoped>\n",
       "    .dataframe tbody tr th:only-of-type {\n",
       "        vertical-align: middle;\n",
       "    }\n",
       "\n",
       "    .dataframe tbody tr th {\n",
       "        vertical-align: top;\n",
       "    }\n",
       "\n",
       "    .dataframe thead th {\n",
       "        text-align: right;\n",
       "    }\n",
       "</style>\n",
       "<table border=\"1\" class=\"dataframe\">\n",
       "  <thead>\n",
       "    <tr style=\"text-align: right;\">\n",
       "      <th></th>\n",
       "      <th>_id</th>\n",
       "      <th>login</th>\n",
       "      <th>display_name</th>\n",
       "      <th>view_count</th>\n",
       "      <th>email</th>\n",
       "      <th>source_url</th>\n",
       "      <th>esports_team_ yes_or_no</th>\n",
       "      <th>number_of_videos</th>\n",
       "      <th>fb_link</th>\n",
       "      <th>youtube_link</th>\n",
       "      <th>ig_link</th>\n",
       "      <th>twitter_link</th>\n",
       "    </tr>\n",
       "  </thead>\n",
       "  <tbody>\n",
       "    <tr>\n",
       "      <td>91</td>\n",
       "      <td>1269029.0</td>\n",
       "      <td>msmarukitty</td>\n",
       "      <td>MsMaruKitty</td>\n",
       "      <td>10270.0</td>\n",
       "      <td></td>\n",
       "      <td></td>\n",
       "      <td></td>\n",
       "      <td>15</td>\n",
       "      <td></td>\n",
       "      <td></td>\n",
       "      <td></td>\n",
       "      <td></td>\n",
       "    </tr>\n",
       "    <tr>\n",
       "      <td>92</td>\n",
       "      <td>129089526.0</td>\n",
       "      <td>chara_ow</td>\n",
       "      <td>차라</td>\n",
       "      <td>10270.0</td>\n",
       "      <td></td>\n",
       "      <td></td>\n",
       "      <td></td>\n",
       "      <td>0</td>\n",
       "      <td></td>\n",
       "      <td></td>\n",
       "      <td></td>\n",
       "      <td></td>\n",
       "    </tr>\n",
       "    <tr>\n",
       "      <td>93</td>\n",
       "      <td>167104293.0</td>\n",
       "      <td>luigiyanko</td>\n",
       "      <td>LuigiYanko</td>\n",
       "      <td>10270.0</td>\n",
       "      <td>l.yanpec@gmail.com</td>\n",
       "      <td>https://www.youtube.com/user/lyanpec/about</td>\n",
       "      <td></td>\n",
       "      <td>6</td>\n",
       "      <td></td>\n",
       "      <td></td>\n",
       "      <td></td>\n",
       "      <td></td>\n",
       "    </tr>\n",
       "    <tr>\n",
       "      <td>94</td>\n",
       "      <td>39339140.0</td>\n",
       "      <td>joker01rus</td>\n",
       "      <td>Joker01rus</td>\n",
       "      <td>10270.0</td>\n",
       "      <td>joker-sky01@mail.ru</td>\n",
       "      <td>https://www.youtube.com/channel/UCrtFB1wtcI8vk...</td>\n",
       "      <td></td>\n",
       "      <td>0</td>\n",
       "      <td></td>\n",
       "      <td></td>\n",
       "      <td></td>\n",
       "      <td></td>\n",
       "    </tr>\n",
       "    <tr>\n",
       "      <td>95</td>\n",
       "      <td>69169971.0</td>\n",
       "      <td>fan4i</td>\n",
       "      <td>Fan4i</td>\n",
       "      <td>10270.0</td>\n",
       "      <td></td>\n",
       "      <td></td>\n",
       "      <td>YES</td>\n",
       "      <td>36</td>\n",
       "      <td></td>\n",
       "      <td></td>\n",
       "      <td></td>\n",
       "      <td></td>\n",
       "    </tr>\n",
       "    <tr>\n",
       "      <td>96</td>\n",
       "      <td>93437287.0</td>\n",
       "      <td>midoiraq</td>\n",
       "      <td>MidoIraQ</td>\n",
       "      <td>10270.0</td>\n",
       "      <td>loltournamentnl@gmail.com</td>\n",
       "      <td>https://www.facebook.com/pg/LoLTournamentUtrec...</td>\n",
       "      <td></td>\n",
       "      <td>1</td>\n",
       "      <td></td>\n",
       "      <td></td>\n",
       "      <td></td>\n",
       "      <td>https://twitter.com/mido_iraq</td>\n",
       "    </tr>\n",
       "    <tr>\n",
       "      <td>97</td>\n",
       "      <td>177976306.0</td>\n",
       "      <td>karubsunhikayesi</td>\n",
       "      <td>KarubSunHikayesi</td>\n",
       "      <td>10269.0</td>\n",
       "      <td></td>\n",
       "      <td></td>\n",
       "      <td></td>\n",
       "      <td></td>\n",
       "      <td></td>\n",
       "      <td></td>\n",
       "      <td></td>\n",
       "      <td></td>\n",
       "    </tr>\n",
       "    <tr>\n",
       "      <td>98</td>\n",
       "      <td>45799022.0</td>\n",
       "      <td>vakleton</td>\n",
       "      <td>Vakleton</td>\n",
       "      <td>10269.0</td>\n",
       "      <td>vakleton@gmail.com</td>\n",
       "      <td>https://www.twitch.tv/vakleton/</td>\n",
       "      <td></td>\n",
       "      <td>21</td>\n",
       "      <td></td>\n",
       "      <td></td>\n",
       "      <td></td>\n",
       "      <td></td>\n",
       "    </tr>\n",
       "    <tr>\n",
       "      <td>99</td>\n",
       "      <td>71864829.0</td>\n",
       "      <td>verlin</td>\n",
       "      <td>Verlin</td>\n",
       "      <td>10269.0</td>\n",
       "      <td></td>\n",
       "      <td></td>\n",
       "      <td></td>\n",
       "      <td>30</td>\n",
       "      <td></td>\n",
       "      <td></td>\n",
       "      <td></td>\n",
       "      <td>https://twitter.com/Verlin_tv</td>\n",
       "    </tr>\n",
       "    <tr>\n",
       "      <td>100</td>\n",
       "      <td>122252999.0</td>\n",
       "      <td>turbovupsen</td>\n",
       "      <td>turbovupsen</td>\n",
       "      <td>10268.0</td>\n",
       "      <td></td>\n",
       "      <td></td>\n",
       "      <td></td>\n",
       "      <td></td>\n",
       "      <td></td>\n",
       "      <td></td>\n",
       "      <td></td>\n",
       "      <td></td>\n",
       "    </tr>\n",
       "  </tbody>\n",
       "</table>\n",
       "</div>"
      ],
      "text/plain": [
       "             _id             login      display_name  view_count  \\\n",
       "91     1269029.0       msmarukitty       MsMaruKitty     10270.0   \n",
       "92   129089526.0          chara_ow                차라     10270.0   \n",
       "93   167104293.0        luigiyanko        LuigiYanko     10270.0   \n",
       "94    39339140.0        joker01rus        Joker01rus     10270.0   \n",
       "95    69169971.0             fan4i             Fan4i     10270.0   \n",
       "96    93437287.0          midoiraq          MidoIraQ     10270.0   \n",
       "97   177976306.0  karubsunhikayesi  KarubSunHikayesi     10269.0   \n",
       "98    45799022.0          vakleton          Vakleton     10269.0   \n",
       "99    71864829.0            verlin            Verlin     10269.0   \n",
       "100  122252999.0       turbovupsen       turbovupsen     10268.0   \n",
       "\n",
       "                         email  \\\n",
       "91                               \n",
       "92                               \n",
       "93          l.yanpec@gmail.com   \n",
       "94         joker-sky01@mail.ru   \n",
       "95                               \n",
       "96   loltournamentnl@gmail.com   \n",
       "97                               \n",
       "98          vakleton@gmail.com   \n",
       "99                               \n",
       "100                              \n",
       "\n",
       "                                            source_url  \\\n",
       "91                                                       \n",
       "92                                                       \n",
       "93          https://www.youtube.com/user/lyanpec/about   \n",
       "94   https://www.youtube.com/channel/UCrtFB1wtcI8vk...   \n",
       "95                                                       \n",
       "96   https://www.facebook.com/pg/LoLTournamentUtrec...   \n",
       "97                                                       \n",
       "98                     https://www.twitch.tv/vakleton/   \n",
       "99                                                       \n",
       "100                                                      \n",
       "\n",
       "    esports_team_ yes_or_no number_of_videos fb_link youtube_link ig_link  \\\n",
       "91                                        15                                \n",
       "92                                         0                                \n",
       "93                                         6                                \n",
       "94                                         0                                \n",
       "95                      YES               36                                \n",
       "96                                         1                                \n",
       "97                                                                          \n",
       "98                                        21                                \n",
       "99                                        30                                \n",
       "100                                                                         \n",
       "\n",
       "                      twitter_link  \n",
       "91                                  \n",
       "92                                  \n",
       "93                                  \n",
       "94                                  \n",
       "95                                  \n",
       "96   https://twitter.com/mido_iraq  \n",
       "97                                  \n",
       "98                                  \n",
       "99   https://twitter.com/Verlin_tv  \n",
       "100                                 "
      ]
     },
     "execution_count": 673,
     "metadata": {},
     "output_type": "execute_result"
    }
   ],
   "source": [
    "remove_uneccessary_links(df_).iloc[90:100,]"
   ]
  },
  {
   "cell_type": "code",
   "execution_count": 630,
   "metadata": {},
   "outputs": [
    {
     "data": {
      "text/plain": [
       "96    https://www.facebook.com/pg/LoLTournamentUtrec...\n",
       "Name: fb_link, dtype: object"
      ]
     },
     "execution_count": 630,
     "metadata": {},
     "output_type": "execute_result"
    }
   ],
   "source": [
    "df_.loc[df_['fb_link'] != '', 'fb_link']"
   ]
  },
  {
   "cell_type": "code",
   "execution_count": 582,
   "metadata": {},
   "outputs": [
    {
     "name": "stderr",
     "output_type": "stream",
     "text": [
      "/usr/local/anaconda3/lib/python3.7/site-packages/ipykernel_launcher.py:1: FutureWarning: `item` has been deprecated and will be removed in a future version\n",
      "  \"\"\"Entry point for launching an IPython kernel.\n"
     ]
    },
    {
     "data": {
      "text/plain": [
       "True"
      ]
     },
     "execution_count": 582,
     "metadata": {},
     "output_type": "execute_result"
    }
   ],
   "source": [
    "str(df.loc[df['display_name'] == 'sugarsh0t', 'email'].item()) == 'nan'"
   ]
  }
 ],
 "metadata": {
  "kernelspec": {
   "display_name": "Python 3",
   "language": "python",
   "name": "python3"
  },
  "language_info": {
   "codemirror_mode": {
    "name": "ipython",
    "version": 3
   },
   "file_extension": ".py",
   "mimetype": "text/x-python",
   "name": "python",
   "nbconvert_exporter": "python",
   "pygments_lexer": "ipython3",
   "version": "3.7.4"
  }
 },
 "nbformat": 4,
 "nbformat_minor": 2
}
